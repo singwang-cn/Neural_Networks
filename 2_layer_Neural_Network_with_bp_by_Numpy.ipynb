{
  "nbformat": 4,
  "nbformat_minor": 0,
  "metadata": {
    "colab": {
      "name": "2-layer Neural Network with bp by Numpy.ipynb",
      "provenance": [],
      "toc_visible": true,
      "authorship_tag": "ABX9TyOhdVm/4/XO8S3Uygwxa9Mj",
      "include_colab_link": true
    },
    "kernelspec": {
      "name": "python3",
      "display_name": "Python 3"
    },
    "accelerator": "GPU"
  },
  "cells": [
    {
      "cell_type": "markdown",
      "metadata": {
        "id": "view-in-github",
        "colab_type": "text"
      },
      "source": [
        "<a href=\"https://colab.research.google.com/github/singwang-cn/Neural-Network/blob/master/2_layer_Neural_Network_with_bp_by_Numpy.ipynb\" target=\"_parent\"><img src=\"https://colab.research.google.com/assets/colab-badge.svg\" alt=\"Open In Colab\"/></a>"
      ]
    },
    {
      "cell_type": "code",
      "metadata": {
        "id": "qs02onYCVhDw"
      },
      "source": [
        "from sklearn import datasets\n",
        "import pandas as pd\n",
        "\n",
        "import matplotlib.pyplot as plt"
      ],
      "execution_count": null,
      "outputs": []
    },
    {
      "cell_type": "code",
      "source": [
        "import jax.numpy as jnp\n",
        "from jax import grad, jit, vmap\n",
        "from jax import random\n",
        "from jax.scipy.special import logsumexp\n",
        "import numpy as np\n",
        "from torch.utils import data\n",
        "from torchvision.datasets import MNIST"
      ],
      "metadata": {
        "id": "1ZNB8f7yfNfh"
      },
      "execution_count": 106,
      "outputs": []
    },
    {
      "cell_type": "code",
      "metadata": {
        "id": "i0g5UX-fVkJI"
      },
      "source": [
        "class Multilayer_Perceptron():\n",
        "  def init_network_params(self, sizes, scale):\n",
        "    rng = random.PRNGKey(0)\n",
        "    keys = random.split(rng, len(sizes))\n",
        "    params = []\n",
        "    for m, n, key in zip(sizes[:-1], sizes[1:], keys):\n",
        "      w_key, b_key = random.split(key)\n",
        "      params.append([scale * random.normal(w_key, (n, m)), scale * random.normal(b_key, (n,))])\n",
        "    return params\n",
        "\n",
        "  def __init__(self, model_sizes, weight_init=1e-2, num_classes=10, learning_rate= 0.001):\n",
        "    self.params = self.init_network_params(model_sizes, scale=weight_init)\n",
        "    self.num_classes = num_classes\n",
        "    self.lr = learning_rate\n",
        "\n",
        "  def sigmoid(self, x):\n",
        "    return 1.0 / (1.0 + jnp.exp(-x))\n",
        "\n",
        "  def forward(self, params, x):\n",
        "    a = x\n",
        "    for w, b in self.params[:-1]:\n",
        "      z = jnp.dot(w, a) + b\n",
        "      a = self.sigmoid(z)\n",
        "    w_last, b_last = self.params[-1]\n",
        "    logits = jnp.dot(w_last, a) + b_last\n",
        "    return logits - logsumexp(logits)\n",
        "\n",
        "  def batched_forward(self, x):\n",
        "    batched_fw = vmap(self.forward, in_axes=(None, 0))\n",
        "    return batched_fw(self.params, x)\n",
        "\n",
        "  def loss(self, params, x, y):\n",
        "    preds = self.batched_forward(x)\n",
        "    return -jnp.mean(preds * y)\n",
        "\n",
        "  @jit\n",
        "  def update(self, params, x, y):\n",
        "    grads = grad(self.loss)(params, x, y)\n",
        "    return [(w - self.lr * dw, b - self.lr * db) for (w, b), (dw, db) in zip(params, grads)]\n",
        "\n",
        "  \n",
        "  def gradient_backpropagation(self, data, target):\n",
        "    a1 = np.dot(data, self.w1) + self.b1\n",
        "    z1 = self.sigmoid(a1)\n",
        "    a2 = np.dot(z1, self.w2) + self.b2\n",
        "\n",
        "    error_fw = self.softmax(a2)\n",
        "    error_softmax = (error_fw-target) / target.shape[0]\n",
        "\n",
        "    grad_b2 = np.sum(error_softmax, axis=0)\n",
        "    grad_w2 = np.dot(z1.T, error_softmax)\n",
        "\n",
        "    error_l2 = np.dot(error_softmax, self.w2.T)\n",
        "    error_sigmoid = error_l2*(1.-z1)*z1\n",
        "\n",
        "    grad_b1 = np.sum(error_sigmoid, axis=0)\n",
        "    grad_w1 = np.dot(data.T, error_sigmoid)\n",
        "\n",
        "    return grad_w1, grad_w2, grad_b1, grad_b2\n",
        "\n",
        "  def recognize(self, x):\n",
        "    return jnp.argmax(self.forward(self.params, x))"
      ],
      "execution_count": 107,
      "outputs": []
    },
    {
      "cell_type": "code",
      "source": [
        "def one_hot(x, k, dtype=jnp.float32):\n",
        "  \"\"\"Create a one-hot encoding of x of size k.\"\"\"\n",
        "  return jnp.array(x[:, None] == jnp.arange(k), dtype)\n",
        "  \n",
        "def accuracy(x, targets):\n",
        "  target_class = jnp.argmax(targets, axis=1)\n",
        "  predicted_class = jnp.argmax(model.batched_forward(x), axis=1)\n",
        "  return jnp.mean(predicted_class == target_class)"
      ],
      "metadata": {
        "id": "0O_7Mfx7dMgc"
      },
      "execution_count": null,
      "outputs": []
    },
    {
      "cell_type": "code",
      "source": [
        "def numpy_collate(batch):\n",
        "  if isinstance(batch[0], np.ndarray):\n",
        "    return np.stack(batch)\n",
        "  elif isinstance(batch[0], (tuple,list)):\n",
        "    transposed = zip(*batch)\n",
        "    return [numpy_collate(samples) for samples in transposed]\n",
        "  else:\n",
        "    return np.array(batch)\n",
        "\n",
        "class NumpyLoader(data.DataLoader):\n",
        "  def __init__(self, dataset, batch_size=1,\n",
        "                shuffle=False, sampler=None,\n",
        "                batch_sampler=None, num_workers=0,\n",
        "                pin_memory=False, drop_last=False,\n",
        "                timeout=0, worker_init_fn=None):\n",
        "    super(self.__class__, self).__init__(dataset,\n",
        "        batch_size=batch_size,\n",
        "        shuffle=shuffle,\n",
        "        sampler=sampler,\n",
        "        batch_sampler=batch_sampler,\n",
        "        num_workers=num_workers,\n",
        "        collate_fn=numpy_collate,\n",
        "        pin_memory=pin_memory,\n",
        "        drop_last=drop_last,\n",
        "        timeout=timeout,\n",
        "        worker_init_fn=worker_init_fn)\n",
        "\n",
        "class FlattenAndCast(object):\n",
        "  def __call__(self, pic):\n",
        "    return np.ravel(np.array(pic, dtype=jnp.float32))"
      ],
      "metadata": {
        "id": "VTk9hJgAWSZl"
      },
      "execution_count": 108,
      "outputs": []
    },
    {
      "cell_type": "code",
      "source": [
        "mnist_dataset = MNIST('./dataset/mnist', download=True, transform=FlattenAndCast())\n",
        "training_generator = NumpyLoader(mnist_dataset, batch_size=batch_size, num_workers=0)\n",
        "\n",
        "# Get the full train dataset (for checking accuracy while training)\n",
        "train_images = np.array(mnist_dataset.train_data).reshape(len(mnist_dataset.train_data), -1)\n",
        "train_labels = one_hot(np.array(mnist_dataset.train_labels), n_targets)\n",
        "\n",
        "# Get full test dataset\n",
        "mnist_dataset_test = MNIST('./dataset/mnist', download=True, train=False)\n",
        "test_images = jnp.array(mnist_dataset_test.test_data.numpy().reshape(len(mnist_dataset_test.test_data), -1), dtype=jnp.float32)\n",
        "test_labels = one_hot(np.array(mnist_dataset_test.test_labels), n_targets)"
      ],
      "metadata": {
        "id": "FV_KEuRzXzTT"
      },
      "execution_count": null,
      "outputs": []
    },
    {
      "cell_type": "code",
      "source": [
        "model = Multilayer_Perceptron([784, 512, 512, 10])\n",
        "model.batched_forward(model.params[0][0])"
      ],
      "metadata": {
        "id": "krN0l17k2fNb",
        "outputId": "02bc0c38-ba9e-477f-e865-5b413043ed59",
        "colab": {
          "base_uri": "https://localhost:8080/"
        }
      },
      "execution_count": 69,
      "outputs": [
        {
          "output_type": "execute_result",
          "data": {
            "text/plain": [
              "DeviceArray([[-2.2714067, -2.1327438, -2.393264 , ..., -2.2512147,\n",
              "              -2.2694113, -2.2728832],\n",
              "             [-2.2714248, -2.132711 , -2.3932571, ..., -2.2512484,\n",
              "              -2.26939  , -2.2729216],\n",
              "             [-2.2714152, -2.1327415, -2.3932543, ..., -2.2512279,\n",
              "              -2.2693994, -2.272916 ],\n",
              "             ...,\n",
              "             [-2.2714403, -2.1327167, -2.3932242, ..., -2.251214 ,\n",
              "              -2.269385 , -2.2729   ],\n",
              "             [-2.2714195, -2.1327279, -2.3932416, ..., -2.2512453,\n",
              "              -2.2694154, -2.2728968],\n",
              "             [-2.2714148, -2.132709 , -2.3932652, ..., -2.2512238,\n",
              "              -2.2694273, -2.2729244]], dtype=float32)"
            ]
          },
          "metadata": {},
          "execution_count": 69
        }
      ]
    },
    {
      "cell_type": "code",
      "source": [
        "x = random.randint(random.PRNGKey(1), (5,), minval=0, maxval=9)"
      ],
      "metadata": {
        "id": "SJBWYvtQE4gW"
      },
      "execution_count": 99,
      "outputs": []
    },
    {
      "cell_type": "code",
      "source": [
        "jnp.array(x[:, None] ==jnp.arange(10), dtype=jnp.int32)"
      ],
      "metadata": {
        "id": "dhyO0mS_NCXY",
        "outputId": "4d364487-e77a-48e5-a11c-fad1ffeb5dd8",
        "colab": {
          "base_uri": "https://localhost:8080/"
        }
      },
      "execution_count": 103,
      "outputs": [
        {
          "output_type": "execute_result",
          "data": {
            "text/plain": [
              "DeviceArray([[0, 0, 0, 0, 0, 0, 1, 0, 0, 0],\n",
              "             [0, 0, 0, 0, 0, 0, 1, 0, 0, 0],\n",
              "             [0, 0, 0, 1, 0, 0, 0, 0, 0, 0],\n",
              "             [0, 0, 1, 0, 0, 0, 0, 0, 0, 0],\n",
              "             [0, 0, 0, 1, 0, 0, 0, 0, 0, 0]], dtype=int32)"
            ]
          },
          "metadata": {},
          "execution_count": 103
        }
      ]
    },
    {
      "cell_type": "code",
      "source": [
        "for w, b in model.params[:-1]:\n",
        "  print(w.shape, b.shape)"
      ],
      "metadata": {
        "id": "cPw_HWxX5ouP",
        "outputId": "f3b98271-aa9b-4f24-9d75-b4aebef71460",
        "colab": {
          "base_uri": "https://localhost:8080/"
        }
      },
      "execution_count": 51,
      "outputs": [
        {
          "output_type": "stream",
          "name": "stdout",
          "text": [
            "(512, 784) (512,)\n",
            "(512, 512) (512,)\n"
          ]
        }
      ]
    },
    {
      "cell_type": "code",
      "metadata": {
        "id": "omRsjpbMV-W2"
      },
      "source": [
        "data_tr_df = pd.read_csv(\"/content/sample_data/mnist_train_small.csv\")\n",
        "data_te_df = pd.read_csv(\"/content/sample_data/mnist_test.csv\")\n",
        "data_tr_df.rename(columns={data_tr_df.columns[0]: \"target\"}, inplace=True)\n",
        "data_te_df.rename(columns={data_te_df.columns[0]: \"target\"}, inplace=True)\n",
        "data_tr_la = np.array(data_tr_df['target'])\n",
        "data_tr_ta = np.zeros([data_tr_la.size, 10])\n",
        "for i in range(data_tr_la.size):\n",
        "  data_tr_ta[i][data_tr_la[i]] = 1\n",
        "data_tr_im = np.array(data_tr_df.drop(columns=['target']))\n",
        "data_te_la = np.array(data_te_df['target'])\n",
        "data_te_ta = np.zeros([data_te_la.size, 10])\n",
        "for i in range(data_te_la.size):\n",
        "  data_te_ta[i][data_te_la[i]] = 1\n",
        "data_te_im = np.array(data_te_df.drop(columns=['target']))"
      ],
      "execution_count": null,
      "outputs": []
    },
    {
      "cell_type": "code",
      "metadata": {
        "id": "pz_fnQ93etD9"
      },
      "source": [
        "nn = neural_network(784, 100, 10, weight_init=0.01)\n",
        "error = nn.train(data_tr_im, data_tr_ta, 0.01, 100000, batch=True)"
      ],
      "execution_count": null,
      "outputs": []
    },
    {
      "cell_type": "code",
      "metadata": {
        "id": "ch9glgA7Vvt5",
        "outputId": "cca4c4f8-9830-41c1-e4ab-54a50b5dd882",
        "colab": {
          "base_uri": "https://localhost:8080/"
        }
      },
      "source": [
        "correct = 0\n",
        "for i in range(data_te_ta.shape[0]):\n",
        "  if data_te_ta[i][nn.recognize(data_te_im[i])] == 1:\n",
        "    correct += 1\n",
        "print(\"Accuracy: {:.2%}\".format(correct / data_te_ta.shape[0]))"
      ],
      "execution_count": null,
      "outputs": [
        {
          "output_type": "stream",
          "text": [
            "Accuracy: 10.09%\n"
          ],
          "name": "stdout"
        }
      ]
    },
    {
      "cell_type": "code",
      "metadata": {
        "id": "NEaJgNMak1sv",
        "outputId": "feb378ee-97b0-4c35-bf08-6e096a1014b9",
        "colab": {
          "base_uri": "https://localhost:8080/",
          "height": 312
        }
      },
      "source": [
        "times = np.arange(0, 100000, 1)\n",
        "plt.figure(\"Training of naive neural network\")\n",
        "plt.title(\"The Change of Errors in Training\")\n",
        "plt.xlabel(\"times of training\")\n",
        "plt.ylabel(\"error by cost function\")\n",
        "plt.plot(times, error, 'r', label='GD', linewidth=0.8)\n",
        "plt.legend()"
      ],
      "execution_count": null,
      "outputs": [
        {
          "output_type": "execute_result",
          "data": {
            "text/plain": [
              "<matplotlib.legend.Legend at 0x7f011f3329b0>"
            ]
          },
          "metadata": {
            "tags": []
          },
          "execution_count": 41
        },
        {
          "output_type": "display_data",
          "data": {
            "image/png": "[encoded data removed]",
            "text/plain": [
              "<Figure size 432x288 with 1 Axes>"
            ]
          },
          "metadata": {
            "tags": [],
            "needs_background": "light"
          }
        }
      ]
    }
  ]
}