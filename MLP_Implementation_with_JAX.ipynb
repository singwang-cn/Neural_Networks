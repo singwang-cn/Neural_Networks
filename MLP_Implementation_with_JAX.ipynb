{
  "nbformat": 4,
  "nbformat_minor": 0,
  "metadata": {
    "colab": {
      "name": "2-layer Neural Network with bp by Numpy.ipynb",
      "provenance": [],
      "authorship_tag": "ABX9TyPXjhqAUua1yd0n+OcFYY/P",
      "include_colab_link": true
    },
    "kernelspec": {
      "name": "python3",
      "display_name": "Python 3"
    },
    "accelerator": "GPU"
  },
  "cells": [
    {
      "cell_type": "markdown",
      "metadata": {
        "id": "view-in-github",
        "colab_type": "text"
      },
      "source": [
        "<a href=\"https://colab.research.google.com/github/singwang-cn/Neural-Network/blob/master/MLP_Implementation_with_JAX.ipynb\" target=\"_parent\"><img src=\"https://colab.research.google.com/assets/colab-badge.svg\" alt=\"Open In Colab\"/></a>"
      ]
    },
    {
      "cell_type": "code",
      "source": [
        "import jax.numpy as jnp\n",
        "from jax import grad, jit, vmap\n",
        "from jax import random\n",
        "from jax.scipy.special import logsumexp\n",
        "import numpy as np\n",
        "import matplotlib.pyplot as plt\n",
        "from torch.utils import data\n",
        "from torchvision.datasets import MNIST\n",
        "import time"
      ],
      "metadata": {
        "id": "1ZNB8f7yfNfh"
      },
      "execution_count": 11,
      "outputs": []
    },
    {
      "cell_type": "code",
      "source": [
        "# utils\n",
        "def init_network_params(rng, sizes, scale):\n",
        "  keys = random.split(rng, len(sizes))\n",
        "  params = []\n",
        "  for m, n, key in zip(sizes[:-1], sizes[1:], keys):\n",
        "    w_key, b_key = random.split(key)\n",
        "    params.append([scale * random.normal(w_key, (n, m)), scale * random.normal(b_key, (n,))])\n",
        "  return params\n",
        "\n",
        "def one_hot(x, k, dtype=jnp.float32):\n",
        "  \"\"\"Create a one-hot encoding of x of size k.\"\"\"\n",
        "  return jnp.array(x[:, None] == jnp.arange(k), dtype)\n",
        "  \n",
        "def accuracy(params, x, targets):\n",
        "  target_class = jnp.argmax(targets, axis=1)\n",
        "  predicted_class = jnp.argmax(batched_forward(params, x), axis=1)\n",
        "  return jnp.mean(predicted_class == target_class)"
      ],
      "metadata": {
        "id": "8h7W_L9ta2TR"
      },
      "execution_count": 2,
      "outputs": []
    },
    {
      "cell_type": "code",
      "metadata": {
        "id": "i0g5UX-fVkJI"
      },
      "source": [
        "# model\n",
        "def sigmoid(x):\n",
        "  #### do not work?\n",
        "  return 1. / (1. + jnp.exp(-x))\n",
        "  #return 0.5 + 0.5 * jnp.tanh(0.5 * x)\n",
        "  #return (jnp.tanh(0.5 * x) + 1.) * 0.5\n",
        "\n",
        "def relu(x):\n",
        "  return jnp.maximum(0, x)\n",
        "\n",
        "def forward(params, x):\n",
        "  a = x\n",
        "  for w, b in params[:-1]:\n",
        "    z = jnp.dot(w, a) + b\n",
        "    a = relu(z)\n",
        "  w_last, b_last = params[-1]\n",
        "  logits = jnp.dot(w_last, a) + b_last\n",
        "  return logits - logsumexp(logits)\n",
        "\n",
        "def batched_forward(params, x):\n",
        "  batched_fw = vmap(forward, in_axes=(None, 0))\n",
        "  return batched_fw(params, x)\n",
        "\n",
        "def loss(params, x, y):\n",
        "  preds = batched_forward(params, x)\n",
        "  return -jnp.mean(preds * y)\n",
        "\n",
        "@jit\n",
        "def update(params, lr, x, y):\n",
        "  grads = grad(loss)(params, x, y)\n",
        "  return [(w - lr * dw, b - lr * db) for (w, b), (dw, db) in zip(params, grads)]\n",
        "\n"
      ],
      "execution_count": 3,
      "outputs": []
    },
    {
      "cell_type": "code",
      "source": [
        "def numpy_collate(batch):\n",
        "  if isinstance(batch[0], np.ndarray):\n",
        "    return np.stack(batch)\n",
        "  elif isinstance(batch[0], (tuple,list)):\n",
        "    transposed = zip(*batch)\n",
        "    return [numpy_collate(samples) for samples in transposed]\n",
        "  else:\n",
        "    return np.array(batch)\n",
        "\n",
        "class NumpyLoader(data.DataLoader):\n",
        "  def __init__(self, dataset, batch_size=1,\n",
        "                shuffle=False, sampler=None,\n",
        "                batch_sampler=None, num_workers=0,\n",
        "                pin_memory=False, drop_last=False,\n",
        "                timeout=0, worker_init_fn=None):\n",
        "    super(self.__class__, self).__init__(dataset,\n",
        "        batch_size=batch_size,\n",
        "        shuffle=shuffle,\n",
        "        sampler=sampler,\n",
        "        batch_sampler=batch_sampler,\n",
        "        num_workers=num_workers,\n",
        "        collate_fn=numpy_collate,\n",
        "        pin_memory=pin_memory,\n",
        "        drop_last=drop_last,\n",
        "        timeout=timeout,\n",
        "        worker_init_fn=worker_init_fn)\n",
        "\n",
        "class FlattenAndCast(object):\n",
        "  def __call__(self, pic):\n",
        "    return np.ravel(np.array(pic, dtype=jnp.float32))"
      ],
      "metadata": {
        "id": "VTk9hJgAWSZl"
      },
      "execution_count": 4,
      "outputs": []
    },
    {
      "cell_type": "code",
      "source": [
        "batch_size = 128\n",
        "num_classes = 10\n",
        "model_size = [784, 512, 512, num_classes]\n",
        "weight_init = 1e-2\n",
        "learning_rate = 0.001\n",
        "params = init_network_params(random.PRNGKey(0), model_size, scale=weight_init)"
      ],
      "metadata": {
        "id": "e70mnQa7XuKx"
      },
      "execution_count": 9,
      "outputs": []
    },
    {
      "cell_type": "code",
      "source": [
        "mnist_dataset = MNIST('./dataset/mnist', download=True, transform=FlattenAndCast())\n",
        "training_generator = NumpyLoader(mnist_dataset, batch_size=batch_size, num_workers=0)\n",
        "\n",
        "# Get the full train dataset (for checking accuracy while training)\n",
        "train_images = np.array(mnist_dataset.train_data).reshape(len(mnist_dataset.train_data), -1)\n",
        "train_labels = one_hot(np.array(mnist_dataset.train_labels), num_classes)\n",
        "\n",
        "# Get full test dataset\n",
        "mnist_dataset_test = MNIST('./dataset/mnist', download=True, train=False)\n",
        "test_images = jnp.array(mnist_dataset_test.test_data.numpy().reshape(len(mnist_dataset_test.test_data), -1), dtype=jnp.float32)\n",
        "test_labels = one_hot(np.array(mnist_dataset_test.test_labels), num_classes)"
      ],
      "metadata": {
        "id": "FV_KEuRzXzTT"
      },
      "execution_count": 7,
      "outputs": []
    },
    {
      "cell_type": "code",
      "source": [
        "tr_los = []\n",
        "tr_acc = []\n",
        "te_acc = []\n",
        "num_epoches = 50\n",
        "for epoch in range(1, num_epoches+1):\n",
        "  start_time = time.time()\n",
        "  for x, y in training_generator:\n",
        "    y = one_hot(y, num_classes)\n",
        "    params = update(params, learning_rate, x, y)\n",
        "  epoch_time = time.time() - start_time\n",
        "\n",
        "  los = loss(params, x, y)\n",
        "  tr_los.append(los)\n",
        "  train_acc = accuracy(params, train_images, train_labels)\n",
        "  tr_acc.append(train_acc)\n",
        "  test_acc = accuracy(params, test_images, test_labels)\n",
        "  te_acc.append(test_acc)\n",
        "  print(f\"Epoch {epoch} in {epoch_time:0.2f} sec, loss {los}\")\n",
        "  print(f\"acc@train {train_acc}, acc@test {test_acc}\")\n",
        "  "
      ],
      "metadata": {
        "id": "r4YBF0xUlw7c",
        "outputId": "5fba5c88-981f-41f5-d1bd-22e056ea95a4",
        "colab": {
          "base_uri": "https://localhost:8080/"
        }
      },
      "execution_count": 10,
      "outputs": [
        {
          "output_type": "stream",
          "name": "stdout",
          "text": [
            "Epoch 1 in 2.85 sec, loss 0.08719893544912338\n",
            "acc@train 0.8388167023658752, acc@test 0.8447999954223633\n",
            "Epoch 2 in 2.87 sec, loss 0.05755347013473511\n",
            "acc@train 0.8737833499908447, acc@test 0.8792999982833862\n",
            "Epoch 3 in 2.82 sec, loss 0.04660889506340027\n",
            "acc@train 0.8894333243370056, acc@test 0.8946999907493591\n",
            "Epoch 4 in 2.81 sec, loss 0.04114992916584015\n",
            "acc@train 0.8987666964530945, acc@test 0.9027999639511108\n",
            "Epoch 5 in 2.84 sec, loss 0.03790076822042465\n",
            "acc@train 0.9055666923522949, acc@test 0.9070000052452087\n",
            "Epoch 6 in 2.82 sec, loss 0.035739146173000336\n",
            "acc@train 0.9106333255767822, acc@test 0.9129999876022339\n",
            "Epoch 7 in 2.82 sec, loss 0.03420233726501465\n",
            "acc@train 0.9149166941642761, acc@test 0.917199969291687\n",
            "Epoch 8 in 2.86 sec, loss 0.03300755098462105\n",
            "acc@train 0.9186833500862122, acc@test 0.9215999841690063\n",
            "Epoch 9 in 2.81 sec, loss 0.03206593915820122\n",
            "acc@train 0.9219000339508057, acc@test 0.924299955368042\n",
            "Epoch 10 in 2.82 sec, loss 0.03125756233930588\n",
            "acc@train 0.9248000383377075, acc@test 0.9262999892234802\n",
            "Epoch 11 in 2.83 sec, loss 0.030545052140951157\n",
            "acc@train 0.9273833632469177, acc@test 0.9284999966621399\n",
            "Epoch 12 in 2.84 sec, loss 0.02991059422492981\n",
            "acc@train 0.9299499988555908, acc@test 0.9307000041007996\n",
            "Epoch 13 in 2.83 sec, loss 0.029333585873246193\n",
            "acc@train 0.9321833252906799, acc@test 0.9325000047683716\n",
            "Epoch 14 in 2.82 sec, loss 0.028803709894418716\n",
            "acc@train 0.9340167045593262, acc@test 0.9341999888420105\n",
            "Epoch 15 in 3.04 sec, loss 0.028310181573033333\n",
            "acc@train 0.935616672039032, acc@test 0.9355999827384949\n",
            "Epoch 16 in 2.82 sec, loss 0.02785334177315235\n",
            "acc@train 0.937250018119812, acc@test 0.936199963092804\n",
            "Epoch 17 in 2.81 sec, loss 0.027432512491941452\n",
            "acc@train 0.9390000104904175, acc@test 0.9369999766349792\n",
            "Epoch 18 in 2.80 sec, loss 0.027043258771300316\n",
            "acc@train 0.9405500292778015, acc@test 0.9381999969482422\n",
            "Epoch 19 in 2.80 sec, loss 0.026682429015636444\n",
            "acc@train 0.9420000314712524, acc@test 0.9398999810218811\n",
            "Epoch 20 in 2.82 sec, loss 0.0263367872685194\n",
            "acc@train 0.9431166648864746, acc@test 0.941100001335144\n",
            "Epoch 21 in 2.78 sec, loss 0.026006486266851425\n",
            "acc@train 0.9445333480834961, acc@test 0.9424999952316284\n",
            "Epoch 22 in 2.81 sec, loss 0.02568662352859974\n",
            "acc@train 0.9457666873931885, acc@test 0.9436999559402466\n",
            "Epoch 23 in 2.88 sec, loss 0.0253852941095829\n",
            "acc@train 0.9471333622932434, acc@test 0.9448999762535095\n",
            "Epoch 24 in 2.84 sec, loss 0.025105254724621773\n",
            "acc@train 0.948033332824707, acc@test 0.9460999965667725\n",
            "Epoch 25 in 2.79 sec, loss 0.02483481727540493\n",
            "acc@train 0.9490333199501038, acc@test 0.9466999769210815\n",
            "Epoch 26 in 2.81 sec, loss 0.024580905213952065\n",
            "acc@train 0.9499666690826416, acc@test 0.9478999972343445\n",
            "Epoch 27 in 2.81 sec, loss 0.024342896416783333\n",
            "acc@train 0.9508333206176758, acc@test 0.9491999745368958\n",
            "Epoch 28 in 2.81 sec, loss 0.024113863706588745\n",
            "acc@train 0.9519166946411133, acc@test 0.9495999813079834\n",
            "Epoch 29 in 2.80 sec, loss 0.023895880207419395\n",
            "acc@train 0.952833354473114, acc@test 0.9502999782562256\n",
            "Epoch 30 in 3.54 sec, loss 0.023674646392464638\n",
            "acc@train 0.9537667036056519, acc@test 0.9509999752044678\n",
            "Epoch 31 in 5.84 sec, loss 0.023467523977160454\n",
            "acc@train 0.9545333385467529, acc@test 0.9520999789237976\n",
            "Epoch 32 in 4.71 sec, loss 0.023263894021511078\n",
            "acc@train 0.9553833603858948, acc@test 0.9526000022888184\n",
            "Epoch 33 in 3.79 sec, loss 0.0230738315731287\n",
            "acc@train 0.9563166499137878, acc@test 0.9528999924659729\n",
            "Epoch 34 in 4.23 sec, loss 0.02289120852947235\n",
            "acc@train 0.9570500254631042, acc@test 0.9533999562263489\n",
            "Epoch 35 in 5.98 sec, loss 0.022713642567396164\n",
            "acc@train 0.9578333497047424, acc@test 0.9540999531745911\n",
            "Epoch 36 in 5.17 sec, loss 0.02254466339945793\n",
            "acc@train 0.9585500359535217, acc@test 0.9545999765396118\n",
            "Epoch 37 in 2.83 sec, loss 0.022384442389011383\n",
            "acc@train 0.9593333601951599, acc@test 0.9547999501228333\n",
            "Epoch 38 in 2.84 sec, loss 0.02222440391778946\n",
            "acc@train 0.9599500298500061, acc@test 0.9551999568939209\n",
            "Epoch 39 in 2.87 sec, loss 0.0220708679407835\n",
            "acc@train 0.9605000019073486, acc@test 0.9556999802589417\n",
            "Epoch 40 in 2.81 sec, loss 0.021924298256635666\n",
            "acc@train 0.9611666798591614, acc@test 0.9565999507904053\n",
            "Epoch 41 in 2.83 sec, loss 0.02177903801202774\n",
            "acc@train 0.9616833329200745, acc@test 0.9573999643325806\n",
            "Epoch 42 in 2.84 sec, loss 0.021642399951815605\n",
            "acc@train 0.9621833562850952, acc@test 0.9575999975204468\n",
            "Epoch 43 in 2.81 sec, loss 0.021507248282432556\n",
            "acc@train 0.9625999927520752, acc@test 0.9583999514579773\n",
            "Epoch 44 in 2.80 sec, loss 0.021377161145210266\n",
            "acc@train 0.9630166888237, acc@test 0.958899974822998\n",
            "Epoch 45 in 2.80 sec, loss 0.021251985803246498\n",
            "acc@train 0.9635500311851501, acc@test 0.9594999551773071\n",
            "Epoch 46 in 2.84 sec, loss 0.021134883165359497\n",
            "acc@train 0.9641000032424927, acc@test 0.960099995136261\n",
            "Epoch 47 in 2.79 sec, loss 0.021024983376264572\n",
            "acc@train 0.9646999835968018, acc@test 0.9605000019073486\n",
            "Epoch 48 in 2.83 sec, loss 0.020917370915412903\n",
            "acc@train 0.965233325958252, acc@test 0.960599958896637\n",
            "Epoch 49 in 2.77 sec, loss 0.020813342183828354\n",
            "acc@train 0.9656833410263062, acc@test 0.9606999754905701\n",
            "Epoch 50 in 2.90 sec, loss 0.020711559802293777\n",
            "acc@train 0.9661499857902527, acc@test 0.9611999988555908\n"
          ]
        }
      ]
    },
    {
      "cell_type": "code",
      "metadata": {
        "id": "NEaJgNMak1sv",
        "outputId": "376e7c23-981e-47f7-d35a-4e33e269b885",
        "colab": {
          "base_uri": "https://localhost:8080/",
          "height": 312
        }
      },
      "source": [
        "epoches = np.arange(0, 50, 1)\n",
        "plt.figure(\"loss\")\n",
        "plt.title(\"Loss\")\n",
        "plt.xlabel(\"epoches\")\n",
        "plt.ylabel(\"loss\")\n",
        "plt.plot(epoches, tr_los, 'r', label='loss', linewidth=0.8)\n",
        "plt.legend()"
      ],
      "execution_count": 15,
      "outputs": [
        {
          "output_type": "execute_result",
          "data": {
            "text/plain": [
              "<matplotlib.legend.Legend at 0x7f1da70a9b90>"
            ]
          },
          "metadata": {},
          "execution_count": 15
        },
        {
          "output_type": "display_data",
          "data": {
            "text/plain": [
              "<Figure size 432x288 with 1 Axes>"
            ],
            "image/png": "[encoded data removed]"
          },
          "metadata": {
            "needs_background": "light"
          }
        }
      ]
    },
    {
      "cell_type": "code",
      "source": [
        "plt.figure(\"acc\")\n",
        "plt.title(\"Accuracy\")\n",
        "plt.xlabel(\"epoches\")\n",
        "plt.ylabel(\"accuracy\")\n",
        "plt.plot(epoches, tr_acc, 'g', label='acc@train', linewidth=0.8)\n",
        "plt.plot(epoches, te_acc, 'b', label='acc@test', linewidth=0.8)\n",
        "plt.legend()"
      ],
      "metadata": {
        "id": "y3NplOC3ykaL",
        "outputId": "4e5b6adb-b9bb-4325-ac57-6147f17b4f33",
        "colab": {
          "base_uri": "https://localhost:8080/",
          "height": 312
        }
      },
      "execution_count": 16,
      "outputs": [
        {
          "output_type": "execute_result",
          "data": {
            "text/plain": [
              "<matplotlib.legend.Legend at 0x7f1da6fbcc50>"
            ]
          },
          "metadata": {},
          "execution_count": 16
        },
        {
          "output_type": "display_data",
          "data": {
            "text/plain": [
              "<Figure size 432x288 with 1 Axes>"
            ],
            "image/png": "[encoded data removed]"
          },
          "metadata": {
            "needs_background": "light"
          }
        }
      ]
    }
  ]
}