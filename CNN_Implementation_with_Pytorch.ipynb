{
  "nbformat": 4,
  "nbformat_minor": 0,
  "metadata": {
    "colab": {
      "name": "CNN with MNIST by Pytorch.ipynb",
      "provenance": [],
      "toc_visible": true,
      "mount_file_id": "https://github.com/singwang-cn/Neural-Network/blob/master/CNN_on_MNIST_by_Pytorch.ipynb",
      "authorship_tag": "ABX9TyNGbyd/IhdvOyJp4ZhWzkYF",
      "include_colab_link": true
    },
    "kernelspec": {
      "name": "python3",
      "display_name": "Python 3"
    },
    "accelerator": "GPU"
  },
  "cells": [
    {
      "cell_type": "markdown",
      "metadata": {
        "id": "view-in-github",
        "colab_type": "text"
      },
      "source": [
        "<a href=\"https://colab.research.google.com/github/singwang-cn/Neural-Network/blob/master/CNN_Implementation_with_Pytorch.ipynb\" target=\"_parent\"><img src=\"https://colab.research.google.com/assets/colab-badge.svg\" alt=\"Open In Colab\"/></a>"
      ]
    },
    {
      "cell_type": "code",
      "source": [
        "import torch\n",
        "import torch.nn as nn\n",
        "from torch.nn import init\n",
        "import torchvision\n",
        "import torchvision.transforms as T\n",
        "import torch.optim as optim\n",
        "from torch.utils.data import DataLoader\n",
        "from torch.utils.data import sampler\n",
        "import torchvision.datasets as dset\n",
        "import numpy as np\n",
        "import matplotlib.pyplot as plt"
      ],
      "metadata": {
        "id": "dPJhVB12tD6-"
      },
      "execution_count": 9,
      "outputs": []
    },
    {
      "cell_type": "code",
      "metadata": {
        "id": "mY6i2dGNg989"
      },
      "source": [
        "mnist_tr = dset.MNIST(\"./dataset/mnist\", train=True, download=True, transform=T.ToTensor())\n",
        "mnist_te = dset.MNIST(\"./dataset/mnist\", train=False, download=True, transform=T.ToTensor())\n",
        "\n",
        "NUM_TRAIN = 60000\n",
        "NUM_VALID = 60000\n",
        "NUM_TEST = 10000\n",
        "\n",
        "batch_size = 128\n",
        "\n",
        "loader_tr = DataLoader(mnist_tr, batch_size=batch_size, shuffle=True)\n",
        "loader_va = DataLoader(mnist_tr, batch_size=batch_size, shuffle=True)\n",
        "loader_te = DataLoader(mnist_te, batch_size=batch_size, shuffle=True)"
      ],
      "execution_count": 15,
      "outputs": []
    },
    {
      "cell_type": "code",
      "metadata": {
        "id": "QB8rLV8Ah15W"
      },
      "source": [
        "def build_classifier_mnist():\n",
        "  return nn.Sequential(\n",
        "    nn.Conv2d(in_channels=1,\n",
        "              out_channels=16,\n",
        "              kernel_size=3,\n",
        "              stride=2,\n",
        "              padding=1,\n",
        "              padding_mode='zeros',\n",
        "              bias=True),\n",
        "    nn.LeakyReLU(0.01),\n",
        "    nn.MaxPool2d(kernel_size=2,\n",
        "                 stride=1,\n",
        "                 padding=1),\n",
        "    nn.Conv2d(in_channels=16,\n",
        "              out_channels=32,\n",
        "              kernel_size=3,\n",
        "              stride=2,\n",
        "              padding=0,\n",
        "              bias=True),\n",
        "    nn.LeakyReLU(0.01),\n",
        "    nn.MaxPool2d(kernel_size=2,\n",
        "                 stride=1,\n",
        "                 padding=0),\n",
        "    nn.Conv2d(in_channels=32,\n",
        "              out_channels=64,\n",
        "              kernel_size=3,\n",
        "              stride=2,\n",
        "              padding=0,\n",
        "              bias=True),\n",
        "    nn.Flatten(start_dim=1, end_dim=-1),\n",
        "    nn.Linear(64*2*2, 100),\n",
        "    nn.LeakyReLU(0.01),\n",
        "    nn.Linear(100, 10),\n",
        "    nn.Softmax(dim=1)\n",
        ")"
      ],
      "execution_count": 17,
      "outputs": []
    },
    {
      "cell_type": "code",
      "source": [
        "def accuracy(output, target, topk=(1,)):\n",
        "    \"\"\"Computes the accuracy over the k top predictions for the specified values of k\"\"\"\n",
        "    \"\"\"https://github.com/pytorch/examples/blob/main/imagenet/main.py\"\"\"\n",
        "    with torch.no_grad():\n",
        "        maxk = max(topk)\n",
        "        batch_size = target.size(0)\n",
        "\n",
        "        _, pred = output.topk(maxk, 1, True, True)\n",
        "        pred = pred.t()\n",
        "        correct = pred.eq(target.view(1, -1).expand_as(pred))\n",
        "\n",
        "        res = []\n",
        "        for k in topk:\n",
        "            correct_k = correct[:k].reshape(-1).float().sum(0, keepdim=True)\n",
        "            res.append(correct_k.mul_(1.0 / batch_size))\n",
        "        return res"
      ],
      "metadata": {
        "id": "cH7HKz_PjtmF"
      },
      "execution_count": 18,
      "outputs": []
    },
    {
      "cell_type": "code",
      "metadata": {
        "id": "h5-vaAOx2mHn",
        "colab": {
          "base_uri": "https://localhost:8080/"
        },
        "outputId": "e265fa70-0149-485d-e096-4f13b8d06c63"
      },
      "source": [
        "### Training\n",
        "dtype = torch.cuda.FloatTensor\n",
        "model = build_classifier_mnist().cuda(0)\n",
        "cost_func = nn.CrossEntropyLoss()\n",
        "optimizer = optim.Adam(model.parameters(),lr=0.001)\n",
        "cost_list = []\n",
        "for epoch in range(10):\n",
        "  for x, y in loader_tr:\n",
        "    #if len(x) != batch_size:\n",
        "      #continue\n",
        "    y_hat = model(x.type(dtype)).cpu()\n",
        "    cost = cost_func(y_hat, y)\n",
        "    optimizer.zero_grad()\n",
        "    cost.backward()\n",
        "    optimizer.step()\n",
        "    cost_list.append(cost.detach().numpy())\n",
        "\n",
        "  y_pred = []\n",
        "  target = []\n",
        "  for x, y in loader_va:\n",
        "    y_pred.append(model(x.type(dtype)).cpu())\n",
        "    target.append(y)\n",
        "\n",
        "  y_pred = torch.cat(y_pred)\n",
        "  target = torch.cat(target)\n",
        "  accu_top1 = accuracy(y_pred, target, topk=(1,))[0].numpy()[0]\n",
        "  accu_top5 = accuracy(y_pred, target, topk=(5,))[0].numpy()[0]\n",
        "  loss_val = cost_func(y_pred, target)\n",
        "\n",
        "  print(f\"epoch:{epoch:d}, loss@val:{loss_val:.3f}, acurracy@top1:{accu_top1:.3f}, acurracy@top5:{accu_top5:.3f}\")"
      ],
      "execution_count": 19,
      "outputs": [
        {
          "output_type": "stream",
          "name": "stdout",
          "text": [
            "epoch:0, loss@val:0.000, acurracy@top1:0.941, acurracy@top5:0.998\n",
            "epoch:1, loss@val:0.000, acurracy@top1:0.964, acurracy@top5:0.999\n",
            "epoch:2, loss@val:0.000, acurracy@top1:0.975, acurracy@top5:0.999\n",
            "epoch:3, loss@val:0.000, acurracy@top1:0.979, acurracy@top5:1.000\n",
            "epoch:4, loss@val:0.000, acurracy@top1:0.979, acurracy@top5:1.000\n",
            "epoch:5, loss@val:0.000, acurracy@top1:0.984, acurracy@top5:1.000\n",
            "epoch:6, loss@val:0.000, acurracy@top1:0.979, acurracy@top5:1.000\n",
            "epoch:7, loss@val:0.000, acurracy@top1:0.985, acurracy@top5:1.000\n",
            "epoch:8, loss@val:0.000, acurracy@top1:0.985, acurracy@top5:1.000\n",
            "epoch:9, loss@val:0.000, acurracy@top1:0.986, acurracy@top5:1.000\n"
          ]
        }
      ]
    },
    {
      "cell_type": "code",
      "metadata": {
        "colab": {
          "base_uri": "https://localhost:8080/",
          "height": 282
        },
        "id": "0L4NbPo1-fQs",
        "outputId": "526f5929-a1e6-4c50-dca6-0bf2d4716739"
      },
      "source": [
        "plt.figure('CNN_MNIST_Loss')\n",
        "plt.plot(cost_list,label='loss', c='r')\n",
        "plt.legend()"
      ],
      "execution_count": 21,
      "outputs": [
        {
          "output_type": "execute_result",
          "data": {
            "text/plain": [
              "<matplotlib.legend.Legend at 0x7f77e6f3db50>"
            ]
          },
          "metadata": {},
          "execution_count": 21
        },
        {
          "output_type": "display_data",
          "data": {
            "text/plain": [
              "<Figure size 432x288 with 1 Axes>"
            ],
            "image/png": "[encoded data removed]"
          },
          "metadata": {
            "needs_background": "light"
          }
        }
      ]
    },
    {
      "cell_type": "code",
      "source": [
        "transform_train = T.Compose([\n",
        "    T.RandomCrop(32, padding=4),\n",
        "    T.RandomHorizontalFlip(),\n",
        "    T.ToTensor(),\n",
        "    T.Normalize((0.4914, 0.4822, 0.4465), (0.2023, 0.1994, 0.2010)),\n",
        "])\n",
        "\n",
        "transform_test = T.Compose([\n",
        "    T.ToTensor(),\n",
        "    T.Normalize((0.4914, 0.4822, 0.4465), (0.2023, 0.1994, 0.2010)),\n",
        "])\n",
        "\n",
        "cifar10_tr = dset.CIFAR10(\"./dataset/cifar10\", train=True, download=True, transform=transform_train)\n",
        "cifar10_te = dset.CIFAR10(\"./dataset/cifar10\", train=False, download=True, transform=transform_test)\n",
        "\n",
        "NUM_TRAIN = 50000\n",
        "NUM_TEST = 10000\n",
        "\n",
        "batch_size = 128\n",
        "\n",
        "loader_tr = DataLoader(cifar10_tr, batch_size=batch_size, shuffle=True)\n",
        "loader_te = DataLoader(cifar10_te, batch_size=batch_size, shuffle=True)"
      ],
      "metadata": {
        "id": "9HzBmQkeTgNq",
        "outputId": "2523d435-ca39-4dbc-d21d-35531e82f865",
        "colab": {
          "base_uri": "https://localhost:8080/"
        }
      },
      "execution_count": 33,
      "outputs": [
        {
          "output_type": "stream",
          "name": "stdout",
          "text": [
            "Files already downloaded and verified\n",
            "Files already downloaded and verified\n"
          ]
        }
      ]
    },
    {
      "cell_type": "code",
      "source": [
        "plt.imshow(cifar10_tr[0][0].numpy().T)"
      ],
      "metadata": {
        "id": "tDvEfeC_Ulif",
        "outputId": "6aa584c9-5001-456a-be94-76e3bfc54b51",
        "colab": {
          "base_uri": "https://localhost:8080/",
          "height": 320
        }
      },
      "execution_count": 34,
      "outputs": [
        {
          "output_type": "stream",
          "name": "stderr",
          "text": [
            "WARNING:matplotlib.image:Clipping input data to the valid range for imshow with RGB data ([0..1] for floats or [0..255] for integers).\n"
          ]
        },
        {
          "output_type": "execute_result",
          "data": {
            "text/plain": [
              "<matplotlib.image.AxesImage at 0x7f77e634c510>"
            ]
          },
          "metadata": {},
          "execution_count": 34
        },
        {
          "output_type": "display_data",
          "data": {
            "text/plain": [
              "<Figure size 432x288 with 1 Axes>"
            ],
            "image/png": "[encoded data removed]"
          },
          "metadata": {
            "needs_background": "light"
          }
        }
      ]
    },
    {
      "cell_type": "code",
      "source": [
        "def build_classifier_cifar(output_dim = 10):\n",
        "  return nn.Sequential(\n",
        "    nn.Conv2d(in_channels=3,\n",
        "              out_channels=64,\n",
        "              kernel_size=3,\n",
        "              stride=2,\n",
        "              padding=2,\n",
        "              padding_mode='zeros',\n",
        "              bias=True),\n",
        "    nn.ReLU(),\n",
        "    nn.MaxPool2d(kernel_size=2,\n",
        "                 stride=1,),\n",
        "    nn.Conv2d(in_channels=64,\n",
        "              out_channels=128,\n",
        "              kernel_size=3,\n",
        "              stride=2,\n",
        "              padding=1,\n",
        "              bias=True),\n",
        "    nn.ReLU(),\n",
        "    nn.MaxPool2d(kernel_size=2,\n",
        "                 stride=1,\n",
        "                 padding=0),\n",
        "    nn.Conv2d(in_channels=128,\n",
        "              out_channels=256,\n",
        "              kernel_size=3,\n",
        "              stride=2,\n",
        "              padding=1,\n",
        "              bias=True),\n",
        "    nn.MaxPool2d(kernel_size=2,\n",
        "                 stride=1,\n",
        "                 padding=0),\n",
        "    nn.Flatten(start_dim=1, end_dim=-1),\n",
        "    nn.Linear(256*3*3, 256*3*3),\n",
        "    nn.ReLU(),\n",
        "    nn.Linear(256*3*3, output_dim),\n",
        "    nn.Softmax(dim=1)\n",
        ")"
      ],
      "metadata": {
        "id": "A9Jxrq39UBy-"
      },
      "execution_count": 37,
      "outputs": []
    },
    {
      "cell_type": "code",
      "source": [
        "dtype = torch.cuda.FloatTensor\n",
        "model = build_classifier_cifar(10).cuda(0)\n",
        "cost_func = nn.CrossEntropyLoss()\n",
        "optimizer = optim.Adam(model.parameters(),lr=0.001)\n",
        "cost_list = []\n",
        "for epoch in range(50):\n",
        "  for x, y in loader_tr:\n",
        "    #if len(x) != batch_size:\n",
        "      #continue\n",
        "    y_hat = model(x.type(dtype)).cpu()\n",
        "    cost = cost_func(y_hat, y)\n",
        "    optimizer.zero_grad()\n",
        "    cost.backward()\n",
        "    optimizer.step()\n",
        "    cost_list.append(cost.detach().numpy())\n",
        "\n",
        "  if (epoch+1)%5 == 0:\n",
        "    y_pred = []\n",
        "    target = []\n",
        "    for x, y in loader_te:\n",
        "      y_pred.append(model(x.type(dtype)).cpu())\n",
        "      target.append(y)\n",
        "\n",
        "    y_pred = torch.cat(y_pred)\n",
        "    target = torch.cat(target)\n",
        "    accu_top1 = accuracy(y_pred, target, topk=(1,))[0].numpy()[0]\n",
        "    accu_top5 = accuracy(y_pred, target, topk=(5,))[0].numpy()[0]\n",
        "    loss_val = cost_func(y_pred, target)\n",
        "\n",
        "    print(f\"epoch:{epoch+1:d}, loss@val:{loss_val:.3f}, acurracy@top1:{accu_top1:.3f}, acurracy@top5:{accu_top5:.3f}\")"
      ],
      "metadata": {
        "id": "6tIX3XTEXYX2",
        "outputId": "14db60ba-5c6a-4a77-f2a0-82f9baabf3a2",
        "colab": {
          "base_uri": "https://localhost:8080/"
        }
      },
      "execution_count": 38,
      "outputs": [
        {
          "output_type": "stream",
          "name": "stdout",
          "text": [
            "epoch:5, loss@val:1.891, acurracy@top1:0.575, acurracy@top5:0.938\n",
            "epoch:10, loss@val:1.823, acurracy@top1:0.642, acurracy@top5:0.958\n",
            "epoch:15, loss@val:1.777, acurracy@top1:0.687, acurracy@top5:0.967\n",
            "epoch:20, loss@val:1.759, acurracy@top1:0.706, acurracy@top5:0.969\n",
            "epoch:25, loss@val:1.747, acurracy@top1:0.717, acurracy@top5:0.973\n",
            "epoch:30, loss@val:1.720, acurracy@top1:0.745, acurracy@top5:0.978\n",
            "epoch:35, loss@val:1.705, acurracy@top1:0.759, acurracy@top5:0.978\n",
            "epoch:40, loss@val:1.702, acurracy@top1:0.761, acurracy@top5:0.981\n",
            "epoch:45, loss@val:1.697, acurracy@top1:0.764, acurracy@top5:0.982\n",
            "epoch:50, loss@val:1.680, acurracy@top1:0.783, acurracy@top5:0.983\n"
          ]
        }
      ]
    },
    {
      "cell_type": "code",
      "source": [
        "plt.figure('CNN_CIFAR10_Loss')\n",
        "plt.plot(cost_list,label='Loss', c='r')\n",
        "plt.legend()"
      ],
      "metadata": {
        "id": "DPv1WxJQjdvl",
        "outputId": "0d5190f7-ca9a-4463-cb69-2692caa545cf",
        "colab": {
          "base_uri": "https://localhost:8080/",
          "height": 282
        }
      },
      "execution_count": 40,
      "outputs": [
        {
          "output_type": "execute_result",
          "data": {
            "text/plain": [
              "<matplotlib.legend.Legend at 0x7f77ae7dfa90>"
            ]
          },
          "metadata": {},
          "execution_count": 40
        },
        {
          "output_type": "display_data",
          "data": {
            "text/plain": [
              "<Figure size 432x288 with 1 Axes>"
            ],
            "image/png": "[encoded data removed]"
          },
          "metadata": {
            "needs_background": "light"
          }
        }
      ]
    }
  ]
}