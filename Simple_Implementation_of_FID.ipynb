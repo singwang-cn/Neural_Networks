{
  "nbformat": 4,
  "nbformat_minor": 0,
  "metadata": {
    "colab": {
      "name": "Simple Implementation of FID.ipynb",
      "provenance": [],
      "toc_visible": true,
      "authorship_tag": "ABX9TyNn6Cap/dHT88t4jXuRIFr9",
      "include_colab_link": true
    },
    "kernelspec": {
      "name": "python3",
      "display_name": "Python 3"
    },
    "language_info": {
      "name": "python"
    }
  },
  "cells": [
    {
      "cell_type": "markdown",
      "metadata": {
        "id": "view-in-github",
        "colab_type": "text"
      },
      "source": [
        "<a href=\"https://colab.research.google.com/github/singwang-cn/Neural-Network/blob/master/Simple_Implementation_of_FID.ipynb\" target=\"_parent\"><img src=\"https://colab.research.google.com/assets/colab-badge.svg\" alt=\"Open In Colab\"/></a>"
      ]
    },
    {
      "cell_type": "code",
      "execution_count": 84,
      "metadata": {
        "id": "7Lxdrk4cifLX"
      },
      "outputs": [],
      "source": [
        "import numpy as np\n",
        "from scipy.linalg import sqrtm\n",
        "from keras.applications import inception_v3\n",
        "import cv2"
      ]
    },
    {
      "cell_type": "code",
      "source": [
        "from keras.datasets import mnist\n",
        "from keras.datasets import cifar10\n",
        "from keras.datasets import cifar100"
      ],
      "metadata": {
        "id": "t7Nc44XQUVn1"
      },
      "execution_count": 85,
      "outputs": []
    },
    {
      "cell_type": "code",
      "source": [
        "# scale an array of images to a new size\n",
        "def scale_images(images):\n",
        "  images_list = list()\n",
        "  # extend images with 1 channel(e.g. mnist) to 3 channels\n",
        "  if len(images.shape) < 4:\n",
        "    images = np.stack((images,)*3, axis=-1)\n",
        "  for image in images:\n",
        "    # resize\n",
        "    new_image = cv2.resize(image, dsize=(299, 299), interpolation = cv2.INTER_CUBIC)\n",
        "    # store\n",
        "    images_list.append(new_image)\n",
        "  return np.asarray(images_list)"
      ],
      "metadata": {
        "id": "pKoCi32rjW64"
      },
      "execution_count": 87,
      "outputs": []
    },
    {
      "cell_type": "code",
      "source": [
        "# calculate frechet inception distance\n",
        "# input images must be in ndarray type\n",
        "def calculate_fid(model, images1, images2):\n",
        "  # convert integer to floating point values\n",
        "  images1 = images1.astype('float32')\n",
        "  images2 = images2.astype('float32')\n",
        "  # resize images\n",
        "  images1 = scale_images(images1)\n",
        "  images2 = scale_images(images2)\n",
        "  # pre-process images\n",
        "  images1 = inception_v3.preprocess_input(images1)\n",
        "  images2 = inception_v3.preprocess_input(images2)\n",
        "\t# calculate activations\n",
        "  act1 = model.predict(images1)\n",
        "  act2 = model.predict(images2)\n",
        "\t# calculate mean and covariance statistics\n",
        "  mu1, sigma1 = act1.mean(axis=0), np.cov(act1, rowvar=False)\n",
        "  mu2, sigma2 = act2.mean(axis=0), np.cov(act2, rowvar=False)\n",
        "\t# calculate sum squared difference between means\n",
        "  ssdiff = np.sum((mu1 - mu2)**2.0)\n",
        "\t# calculate sqrt of product between cov\n",
        "  covmean = sqrtm(sigma1.dot(sigma2))\n",
        "\t# check and correct imaginary numbers from sqrt\n",
        "  if np.iscomplexobj(covmean):\n",
        "    covmean = covmean.real\n",
        "\t# calculate score\n",
        "  fid = ssdiff + np.trace(sigma1 + sigma2 - 2.0 * covmean)\n",
        "  return fid"
      ],
      "metadata": {
        "id": "xZxhGBKGjfiz"
      },
      "execution_count": 93,
      "outputs": []
    },
    {
      "cell_type": "code",
      "source": [
        "# prepare the inception v3 model\n",
        "incv3 = inception_v3.InceptionV3(include_top=False, pooling='avg', input_shape=(299,299,3))"
      ],
      "metadata": {
        "id": "2OsuXDNKjjg-"
      },
      "execution_count": 89,
      "outputs": []
    },
    {
      "cell_type": "code",
      "source": [
        "# mnist test\n",
        "(images1, _), (images2, _) = mnist.load_data()\n",
        "np.random.shuffle(images1)\n",
        "images1 = images1[:1000]\n",
        "np.random.shuffle(images2)\n",
        "images2 = images2[:1000]\n",
        "fid = calculate_fid(incv3, images1, images2)\n",
        "print('FID: %.3f' % fid)"
      ],
      "metadata": {
        "colab": {
          "base_uri": "https://localhost:8080/"
        },
        "id": "ZBndxPj__B37",
        "outputId": "d33de12e-7ad9-4e1f-fa7a-5eb946821179"
      },
      "execution_count": 90,
      "outputs": [
        {
          "output_type": "stream",
          "name": "stdout",
          "text": [
            "FID: 13.258\n"
          ]
        }
      ]
    },
    {
      "cell_type": "code",
      "source": [
        "# cifar10 test\n",
        "(images1, _), (images2, _) = cifar10.load_data()\n",
        "np.random.shuffle(images1)\n",
        "images1 = images1[:100]\n",
        "np.random.shuffle(images2)\n",
        "images2 = images2[:100]\n",
        "fid = calculate_fid(incv3, images1, images2)\n",
        "print('FID: %.3f' % fid)"
      ],
      "metadata": {
        "colab": {
          "base_uri": "https://localhost:8080/"
        },
        "id": "2d6DyHRt-nH3",
        "outputId": "3ac4d1ed-f6d8-44a7-faf2-94a6a8a5f39b"
      },
      "execution_count": 91,
      "outputs": [
        {
          "output_type": "stream",
          "name": "stdout",
          "text": [
            "FID: 167.271\n"
          ]
        }
      ]
    },
    {
      "cell_type": "code",
      "source": [
        "# cifar100 test\n",
        "(images1, _), (images2, _) = cifar100.load_data()\n",
        "np.random.shuffle(images1)\n",
        "images1 = images1[:100]\n",
        "np.random.shuffle(images2)\n",
        "images2 = images2[:100]\n",
        "fid = calculate_fid(incv3, images1, images2)\n",
        "print('FID: %.3f' % fid)"
      ],
      "metadata": {
        "colab": {
          "base_uri": "https://localhost:8080/"
        },
        "id": "sNLB-OXo-wIO",
        "outputId": "c5021859-cda6-4f5e-d65f-a3626c14f105"
      },
      "execution_count": 92,
      "outputs": [
        {
          "output_type": "stream",
          "name": "stdout",
          "text": [
            "FID: 205.363\n"
          ]
        }
      ]
    }
  ]
}