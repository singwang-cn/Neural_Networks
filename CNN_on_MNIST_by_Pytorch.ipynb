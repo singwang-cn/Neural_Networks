{
  "nbformat": 4,
  "nbformat_minor": 0,
  "metadata": {
    "colab": {
      "name": "CNN with MNIST by Pytorch.ipynb",
      "provenance": [],
      "toc_visible": true,
      "mount_file_id": "https://github.com/singwang-cn/Neural-Network/blob/master/CNN_on_MNIST_by_Pytorch.ipynb",
      "authorship_tag": "ABX9TyMnRuhDTfE8pu/+fhJjVAW4",
      "include_colab_link": true
    },
    "kernelspec": {
      "name": "python3",
      "display_name": "Python 3"
    },
    "accelerator": "GPU"
  },
  "cells": [
    {
      "cell_type": "markdown",
      "metadata": {
        "id": "view-in-github",
        "colab_type": "text"
      },
      "source": [
        "<a href=\"https://colab.research.google.com/github/singwang-cn/Neural-Network/blob/master/CNN_on_MNIST_by_Pytorch.ipynb\" target=\"_parent\"><img src=\"https://colab.research.google.com/assets/colab-badge.svg\" alt=\"Open In Colab\"/></a>"
      ]
    },
    {
      "cell_type": "code",
      "metadata": {
        "id": "sXbi9YPVd5C8"
      },
      "source": [
        "import torch \n",
        "from torch.utils import data\n",
        "from torch.autograd import Variable\n",
        "from torchvision import datasets, transforms\n",
        "import matplotlib.pyplot as plt"
      ],
      "execution_count": null,
      "outputs": []
    },
    {
      "cell_type": "code",
      "source": [
        "!pip install wandb\n",
        "import wandb\n",
        "wandb.login()"
      ],
      "metadata": {
        "id": "gn4VUPki0WrM",
        "outputId": "5c7dea0e-c6e4-4072-d5e4-125275df4761",
        "colab": {
          "base_uri": "https://localhost:8080/",
          "height": 818
        }
      },
      "execution_count": 1,
      "outputs": [
        {
          "output_type": "stream",
          "name": "stdout",
          "text": [
            "Collecting wandb\n",
            "  Downloading wandb-0.12.14-py2.py3-none-any.whl (1.8 MB)\n",
            "\u001b[K     |████████████████████████████████| 1.8 MB 5.3 MB/s \n",
            "\u001b[?25hRequirement already satisfied: six>=1.13.0 in /usr/local/lib/python3.7/dist-packages (from wandb) (1.15.0)\n",
            "Requirement already satisfied: psutil>=5.0.0 in /usr/local/lib/python3.7/dist-packages (from wandb) (5.4.8)\n",
            "Requirement already satisfied: promise<3,>=2.0 in /usr/local/lib/python3.7/dist-packages (from wandb) (2.3)\n",
            "Requirement already satisfied: python-dateutil>=2.6.1 in /usr/local/lib/python3.7/dist-packages (from wandb) (2.8.2)\n",
            "Collecting shortuuid>=0.5.0\n",
            "  Downloading shortuuid-1.0.8-py3-none-any.whl (9.5 kB)\n",
            "Collecting sentry-sdk>=1.0.0\n",
            "  Downloading sentry_sdk-1.5.10-py2.py3-none-any.whl (144 kB)\n",
            "\u001b[K     |████████████████████████████████| 144 kB 38.1 MB/s \n",
            "\u001b[?25hRequirement already satisfied: Click!=8.0.0,>=7.0 in /usr/local/lib/python3.7/dist-packages (from wandb) (7.1.2)\n",
            "Requirement already satisfied: PyYAML in /usr/local/lib/python3.7/dist-packages (from wandb) (3.13)\n",
            "Requirement already satisfied: protobuf>=3.12.0 in /usr/local/lib/python3.7/dist-packages (from wandb) (3.17.3)\n",
            "Collecting GitPython>=1.0.0\n",
            "  Downloading GitPython-3.1.27-py3-none-any.whl (181 kB)\n",
            "\u001b[K     |████████████████████████████████| 181 kB 44.3 MB/s \n",
            "\u001b[?25hCollecting setproctitle\n",
            "  Downloading setproctitle-1.2.3-cp37-cp37m-manylinux_2_5_x86_64.manylinux1_x86_64.manylinux_2_17_x86_64.manylinux2014_x86_64.whl (29 kB)\n",
            "Requirement already satisfied: requests<3,>=2.0.0 in /usr/local/lib/python3.7/dist-packages (from wandb) (2.23.0)\n",
            "Collecting pathtools\n",
            "  Downloading pathtools-0.1.2.tar.gz (11 kB)\n",
            "Collecting docker-pycreds>=0.4.0\n",
            "  Downloading docker_pycreds-0.4.0-py2.py3-none-any.whl (9.0 kB)\n",
            "Requirement already satisfied: typing-extensions>=3.7.4.3 in /usr/local/lib/python3.7/dist-packages (from GitPython>=1.0.0->wandb) (4.1.1)\n",
            "Collecting gitdb<5,>=4.0.1\n",
            "  Downloading gitdb-4.0.9-py3-none-any.whl (63 kB)\n",
            "\u001b[K     |████████████████████████████████| 63 kB 1.8 MB/s \n",
            "\u001b[?25hCollecting smmap<6,>=3.0.1\n",
            "  Downloading smmap-5.0.0-py3-none-any.whl (24 kB)\n",
            "Requirement already satisfied: idna<3,>=2.5 in /usr/local/lib/python3.7/dist-packages (from requests<3,>=2.0.0->wandb) (2.10)\n",
            "Requirement already satisfied: certifi>=2017.4.17 in /usr/local/lib/python3.7/dist-packages (from requests<3,>=2.0.0->wandb) (2021.10.8)\n",
            "Requirement already satisfied: urllib3!=1.25.0,!=1.25.1,<1.26,>=1.21.1 in /usr/local/lib/python3.7/dist-packages (from requests<3,>=2.0.0->wandb) (1.24.3)\n",
            "Requirement already satisfied: chardet<4,>=3.0.2 in /usr/local/lib/python3.7/dist-packages (from requests<3,>=2.0.0->wandb) (3.0.4)\n",
            "Building wheels for collected packages: pathtools\n",
            "  Building wheel for pathtools (setup.py) ... \u001b[?25l\u001b[?25hdone\n",
            "  Created wheel for pathtools: filename=pathtools-0.1.2-py3-none-any.whl size=8806 sha256=4991cb6c2c53c155bd9363df1b406904b0c49c016c91ac2e383aceaa7e7462f8\n",
            "  Stored in directory: /root/.cache/pip/wheels/3e/31/09/fa59cef12cdcfecc627b3d24273699f390e71828921b2cbba2\n",
            "Successfully built pathtools\n",
            "Installing collected packages: smmap, gitdb, shortuuid, setproctitle, sentry-sdk, pathtools, GitPython, docker-pycreds, wandb\n",
            "Successfully installed GitPython-3.1.27 docker-pycreds-0.4.0 gitdb-4.0.9 pathtools-0.1.2 sentry-sdk-1.5.10 setproctitle-1.2.3 shortuuid-1.0.8 smmap-5.0.0 wandb-0.12.14\n"
          ]
        },
        {
          "output_type": "display_data",
          "data": {
            "text/plain": [
              "<IPython.core.display.Javascript object>"
            ],
            "application/javascript": [
              "\n",
              "        window._wandbApiKey = new Promise((resolve, reject) => {\n",
              "            function loadScript(url) {\n",
              "            return new Promise(function(resolve, reject) {\n",
              "                let newScript = document.createElement(\"script\");\n",
              "                newScript.onerror = reject;\n",
              "                newScript.onload = resolve;\n",
              "                document.body.appendChild(newScript);\n",
              "                newScript.src = url;\n",
              "            });\n",
              "            }\n",
              "            loadScript(\"https://cdn.jsdelivr.net/npm/postmate/build/postmate.min.js\").then(() => {\n",
              "            const iframe = document.createElement('iframe')\n",
              "            iframe.style.cssText = \"width:0;height:0;border:none\"\n",
              "            document.body.appendChild(iframe)\n",
              "            const handshake = new Postmate({\n",
              "                container: iframe,\n",
              "                url: 'https://wandb.ai/authorize'\n",
              "            });\n",
              "            const timeout = setTimeout(() => reject(\"Couldn't auto authenticate\"), 5000)\n",
              "            handshake.then(function(child) {\n",
              "                child.on('authorize', data => {\n",
              "                    clearTimeout(timeout)\n",
              "                    resolve(data)\n",
              "                });\n",
              "            });\n",
              "            })\n",
              "        });\n",
              "    "
            ]
          },
          "metadata": {}
        },
        {
          "output_type": "stream",
          "name": "stderr",
          "text": [
            "\u001b[34m\u001b[1mwandb\u001b[0m: Appending key for api.wandb.ai to your netrc file: /root/.netrc\n"
          ]
        },
        {
          "output_type": "execute_result",
          "data": {
            "text/plain": [
              "True"
            ]
          },
          "metadata": {},
          "execution_count": 1
        }
      ]
    },
    {
      "cell_type": "code",
      "source": [
        "import torch\n",
        "import torch.nn as nn\n",
        "from torch.nn import init\n",
        "import torchvision\n",
        "import torchvision.transforms as T\n",
        "import torch.optim as optim\n",
        "from torch.utils.data import DataLoader\n",
        "from torch.utils.data import sampler\n",
        "import torchvision.datasets as dset\n",
        "import numpy as np\n",
        "import matplotlib.pyplot as plt"
      ],
      "metadata": {
        "id": "dPJhVB12tD6-"
      },
      "execution_count": 2,
      "outputs": []
    },
    {
      "cell_type": "code",
      "metadata": {
        "id": "mY6i2dGNg989",
        "colab": {
          "base_uri": "https://localhost:8080/",
          "height": 53
        },
        "outputId": "36b401dd-a7d9-46a3-d22a-10ad1c87f11d"
      },
      "source": [
        "mnist_tr = dset.MNIST(\"./dataset/mnist\", train=True, download=True, transform=T.ToTensor())\n",
        "mnist_te = dset.MNIST(\"./dataset/mnist\", train=False, download=True, transform=T.ToTensor())\n",
        "\n",
        "NUM_TRAIN = 50000\n",
        "NUM_VALID = 10000\n",
        "NUM_TEST = 10000\n",
        "\n",
        "batch_size = 128\n",
        "\n",
        "loader_tr = DataLoader(mnist_tr, batch_size=batch_size, shuffle=True)\n",
        "loader_va = DataLoader(mnist_tr, batch_size=batch_size, shuffle=True)\n",
        "loader_te = DataLoader(mnist_te, batch_size=batch_size, shuffle=True)"
      ],
      "execution_count": 30,
      "outputs": [
        {
          "output_type": "execute_result",
          "data": {
            "text/plain": [
              "'\\nloader_tr = DataLoader(mnist_tr, batch_size=batch_size, sampler=sampler.Sampler(NUM_TRAIN))\\nloader_va = DataLoader(mnist_tr, batch_size=batch_size, sampler=sampler.Sampler(NUM_VALID))\\nloader_te = DataLoader(mnist_te, batch_size=batch_size, sampler=sampler.Sampler(NUM_TEST))\\n'"
            ],
            "application/vnd.google.colaboratory.intrinsic+json": {
              "type": "string"
            }
          },
          "metadata": {},
          "execution_count": 30
        }
      ]
    },
    {
      "cell_type": "code",
      "metadata": {
        "id": "QB8rLV8Ah15W"
      },
      "source": [
        "def build_classifier():\n",
        "  return nn.Sequential(\n",
        "    nn.Conv2d(in_channels=1,\n",
        "              out_channels=16,\n",
        "              kernel_size=3,\n",
        "              stride=2,\n",
        "              padding=1,\n",
        "              padding_mode='zeros',\n",
        "              bias=True),\n",
        "    nn.LeakyReLU(0.01),\n",
        "    nn.MaxPool2d(kernel_size=2,\n",
        "                 stride=1,\n",
        "                 padding=1),\n",
        "    nn.Conv2d(in_channels=16,\n",
        "              out_channels=32,\n",
        "              kernel_size=3,\n",
        "              stride=2,\n",
        "              padding=0,\n",
        "              bias=True),\n",
        "    nn.LeakyReLU(0.01),\n",
        "    nn.MaxPool2d(kernel_size=2,\n",
        "                 stride=1,\n",
        "                 padding=0),\n",
        "    nn.Conv2d(in_channels=32,\n",
        "              out_channels=64,\n",
        "              kernel_size=3,\n",
        "              stride=2,\n",
        "              padding=0,\n",
        "              bias=True),\n",
        "    nn.Flatten(start_dim=1, end_dim=-1),\n",
        "    nn.Linear(64*2*2, 100),\n",
        "    nn.LeakyReLU(0.01),\n",
        "    nn.Linear(100, 10),\n",
        "    nn.Softmax(dim=1)\n",
        ").cuda(0)"
      ],
      "execution_count": 63,
      "outputs": []
    },
    {
      "cell_type": "code",
      "metadata": {
        "id": "h5-vaAOx2mHn",
        "colab": {
          "base_uri": "https://localhost:8080/"
        },
        "outputId": "5fef94ba-1ea6-4ada-b366-d3b40bfa73a2"
      },
      "source": [
        "dtype = torch.cuda.FloatTensor\n",
        "model = build_classifier()\n",
        "cost_func = nn.CrossEntropyLoss()\n",
        "optimizer = optim.Adam(model.parameters(),lr=0.001)\n",
        "cost_list = []\n",
        "for epoch in range(5):\n",
        "  for x, y in loader_tr:\n",
        "    if len(x) != batch_size:\n",
        "      continue\n",
        "    y_hat = model(x.type(dtype)).cpu()\n",
        "    cost = cost_func(y_hat, y)\n",
        "    optimizer.zero_grad()\n",
        "    cost.backward()\n",
        "    optimizer.step()\n",
        "    cost_list.append(cost.detach().numpy())\n",
        "\n",
        "  incorrect = 0\n",
        "  for x, y in loader_va:\n",
        "    y_hat = model(x.type(dtype)).cpu().detach().numpy().argmax(axis=1)\n",
        "    for i in range(len(y)):\n",
        "      if y[i] != y_hat[i]:\n",
        "        incorrect += 1\n",
        "  print('epoch:{}, acurracy:{:.3f}, error rate:{:.3f}'.format(epoch+1, 1-incorrect/60000, incorrect/60000))"
      ],
      "execution_count": 96,
      "outputs": [
        {
          "output_type": "stream",
          "name": "stdout",
          "text": [
            "epoch:1, acurracy:0.929, error rate:0.071\n",
            "epoch:2, acurracy:0.957, error rate:0.043\n",
            "epoch:3, acurracy:0.972, error rate:0.028\n",
            "epoch:4, acurracy:0.978, error rate:0.022\n",
            "epoch:5, acurracy:0.982, error rate:0.018\n"
          ]
        }
      ]
    },
    {
      "cell_type": "code",
      "metadata": {
        "colab": {
          "base_uri": "https://localhost:8080/",
          "height": 282
        },
        "id": "0L4NbPo1-fQs",
        "outputId": "71517a02-5efe-429d-f8ea-6b7eea48c223"
      },
      "source": [
        "plt.figure('PyTorch_CNN_Cost')\n",
        "plt.plot(cost_list,label='Cost')\n",
        "plt.legend()"
      ],
      "execution_count": 98,
      "outputs": [
        {
          "output_type": "execute_result",
          "data": {
            "text/plain": [
              "<matplotlib.legend.Legend at 0x7fe73930da10>"
            ]
          },
          "metadata": {},
          "execution_count": 98
        },
        {
          "output_type": "display_data",
          "data": {
            "text/plain": [
              "<Figure size 432x288 with 1 Axes>"
            ],
            "image/png": "[encoded data removed]"
          },
          "metadata": {
            "needs_background": "light"
          }
        }
      ]
    },
    {
      "cell_type": "code",
      "source": [
        "incorrect = 0\n",
        "for x, y in loader_te:\n",
        "  y_hat = model(x.type(dtype)).cpu().detach().numpy().argmax(axis=1)\n",
        "  for i in range(len(y)):\n",
        "    if y[i] != y_hat[i]:\n",
        "      incorrect += 1\n",
        "print('Test: acurracy:{:.3f}, error rate:{:.3f}'.format(1-incorrect/10000, incorrect/10000))"
      ],
      "metadata": {
        "colab": {
          "base_uri": "https://localhost:8080/"
        },
        "id": "h1s1xYFQUwqx",
        "outputId": "27cd5c98-ccde-4156-d0e7-5ef11334401f"
      },
      "execution_count": 97,
      "outputs": [
        {
          "output_type": "stream",
          "name": "stdout",
          "text": [
            "Test: acurracy:0.981, error rate:0.019\n"
          ]
        }
      ]
    }
  ]
}