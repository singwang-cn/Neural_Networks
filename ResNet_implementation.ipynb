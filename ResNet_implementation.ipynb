{
  "nbformat": 4,
  "nbformat_minor": 0,
  "metadata": {
    "colab": {
      "name": "ResNet_implementation.ipynb",
      "provenance": [],
      "authorship_tag": "ABX9TyNlpfZrQtVNy2qarUk2645Z",
      "include_colab_link": true
    },
    "kernelspec": {
      "name": "python3",
      "display_name": "Python 3"
    },
    "language_info": {
      "name": "python"
    }
  },
  "cells": [
    {
      "cell_type": "markdown",
      "metadata": {
        "id": "view-in-github",
        "colab_type": "text"
      },
      "source": [
        "<a href=\"https://colab.research.google.com/github/singwang-cn/Neural-Network/blob/master/ResNet_implementation.ipynb\" target=\"_parent\"><img src=\"https://colab.research.google.com/assets/colab-badge.svg\" alt=\"Open In Colab\"/></a>"
      ]
    },
    {
      "cell_type": "code",
      "execution_count": 12,
      "metadata": {
        "id": "mCCP7BdAWPb2"
      },
      "outputs": [],
      "source": [
        "import torch\n",
        "import torch.nn as nn\n",
        "from torch.nn import init\n",
        "from torch.nn import functional as F\n",
        "import torchvision\n",
        "import torchvision.transforms as T\n",
        "import torch.optim as optim\n",
        "from torch.utils.data import DataLoader\n",
        "from torch.utils.data import sampler\n",
        "import torchvision.datasets as dset\n",
        "import numpy as np\n",
        "import matplotlib.pyplot as plt"
      ]
    },
    {
      "cell_type": "code",
      "source": [
        "class ResBlock(nn.Module):\n",
        "  def __init__(self, inp_channels, num_channels, use_1x1conv=False, strides=1) -> None:\n",
        "    super().__init__()\n",
        "\n",
        "    self.conv1 = nn.Conv2d (in_channels=inp_channels, out_channels=num_channels, kernel_size=3, stride=strides, padding=1)\n",
        "    self.conv2 = nn.Conv2d (in_channels=num_channels, out_channels=num_channels, kernel_size=3, stride=1, padding=1)\n",
        "    self.conv3 = None\n",
        "    if use_1x1conv:\n",
        "      self.conv3 = nn.Conv2d (in_channels=inp_channels, out_channels=num_channels, kernel_size=1, stride=strides)\n",
        "\n",
        "    self.bn1 = nn.BatchNorm2d(num_channels)\n",
        "    self.bn2 = nn.BatchNorm2d(num_channels)\n",
        "    self.relu = nn.ReLU(inplace=True)\n",
        "\n",
        "  def forward(self, X):\n",
        "    Y = self.conv1(X)\n",
        "    Y = self.bn1(Y)\n",
        "    Y = F.relu(Y)\n",
        "\n",
        "    Y = self.conv2(Y)\n",
        "    Y = self.bn2(Y)\n",
        "\n",
        "    if self.conv3:\n",
        "      X = self.conv3(X)\n",
        "    print(Y.shape, X.shape)\n",
        "    Y += X\n",
        "    Y = F.relu(Y)\n",
        "    return Y\n"
      ],
      "metadata": {
        "id": "F7IKwbbYZYaG"
      },
      "execution_count": 24,
      "outputs": []
    },
    {
      "cell_type": "code",
      "source": [
        "block = ResBlock(3, 6, use_1x1conv=True, strides=2)\n",
        "X = torch.rand(4, 3, 224, 224)\n",
        "Y = block(X)"
      ],
      "metadata": {
        "colab": {
          "base_uri": "https://localhost:8080/"
        },
        "id": "scOx71F2lBGQ",
        "outputId": "6e24c965-a939-49d9-acf5-e8e873345e99"
      },
      "execution_count": 25,
      "outputs": [
        {
          "output_type": "stream",
          "name": "stdout",
          "text": [
            "torch.Size([4, 6, 112, 112]) torch.Size([4, 6, 112, 112])\n"
          ]
        }
      ]
    },
    {
      "cell_type": "code",
      "source": [
        "Y.shape"
      ],
      "metadata": {
        "colab": {
          "base_uri": "https://localhost:8080/"
        },
        "id": "plpWWyrdlZrE",
        "outputId": "918b579d-fce9-4edd-d68f-5cc6bbd59663"
      },
      "execution_count": 26,
      "outputs": [
        {
          "output_type": "execute_result",
          "data": {
            "text/plain": [
              "torch.Size([4, 6, 112, 112])"
            ]
          },
          "metadata": {},
          "execution_count": 26
        }
      ]
    },
    {
      "cell_type": "code",
      "source": [
        "#https://pystyle.info/pytorch-resnet/"
      ],
      "metadata": {
        "id": "wbGE-OF4k_LN"
      },
      "execution_count": null,
      "outputs": []
    }
  ]
}