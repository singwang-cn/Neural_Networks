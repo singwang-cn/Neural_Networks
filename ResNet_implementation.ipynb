{
  "nbformat": 4,
  "nbformat_minor": 0,
  "metadata": {
    "colab": {
      "name": "ResNet_implementation.ipynb",
      "provenance": [],
      "mount_file_id": "https://github.com/singwang-cn/Neural-Network/blob/master/ResNet_implementation.ipynb",
      "authorship_tag": "ABX9TyNEY4mdVm5bsSYNhV165EqA",
      "include_colab_link": true
    },
    "kernelspec": {
      "name": "python3",
      "display_name": "Python 3"
    },
    "language_info": {
      "name": "python"
    },
    "accelerator": "GPU",
    "widgets": {
      "application/vnd.jupyter.widget-state+json": {
        "39ba7a138cf54d338bdfa8c671882945": {
          "model_module": "@jupyter-widgets/controls",
          "model_name": "HBoxModel",
          "model_module_version": "1.5.0",
          "state": {
            "_dom_classes": [],
            "_model_module": "@jupyter-widgets/controls",
            "_model_module_version": "1.5.0",
            "_model_name": "HBoxModel",
            "_view_count": null,
            "_view_module": "@jupyter-widgets/controls",
            "_view_module_version": "1.5.0",
            "_view_name": "HBoxView",
            "box_style": "",
            "children": [
              "IPY_MODEL_f3016d39a58b4d4392cad4dcaaeaf06b",
              "IPY_MODEL_75d65f8d16d046b194168d0e16d00963",
              "IPY_MODEL_ff52ec8b073e4282982ce8e2c65f4e80"
            ],
            "layout": "IPY_MODEL_bd8e3bb1b3a24856be5155f85316a273"
          }
        },
        "f3016d39a58b4d4392cad4dcaaeaf06b": {
          "model_module": "@jupyter-widgets/controls",
          "model_name": "HTMLModel",
          "model_module_version": "1.5.0",
          "state": {
            "_dom_classes": [],
            "_model_module": "@jupyter-widgets/controls",
            "_model_module_version": "1.5.0",
            "_model_name": "HTMLModel",
            "_view_count": null,
            "_view_module": "@jupyter-widgets/controls",
            "_view_module_version": "1.5.0",
            "_view_name": "HTMLView",
            "description": "",
            "description_tooltip": null,
            "layout": "IPY_MODEL_f898be2e73444add89d9ff880196b9a1",
            "placeholder": "​",
            "style": "IPY_MODEL_00d7e43dbf6647d6bb39ef98f9c35e55",
            "value": ""
          }
        },
        "75d65f8d16d046b194168d0e16d00963": {
          "model_module": "@jupyter-widgets/controls",
          "model_name": "FloatProgressModel",
          "model_module_version": "1.5.0",
          "state": {
            "_dom_classes": [],
            "_model_module": "@jupyter-widgets/controls",
            "_model_module_version": "1.5.0",
            "_model_name": "FloatProgressModel",
            "_view_count": null,
            "_view_module": "@jupyter-widgets/controls",
            "_view_module_version": "1.5.0",
            "_view_name": "ProgressView",
            "bar_style": "success",
            "description": "",
            "description_tooltip": null,
            "layout": "IPY_MODEL_42af31ab72ad40229758bbe74aea1d8a",
            "max": 170498071,
            "min": 0,
            "orientation": "horizontal",
            "style": "IPY_MODEL_70d18729144a4613b17cd5a764e37db6",
            "value": 170498071
          }
        },
        "ff52ec8b073e4282982ce8e2c65f4e80": {
          "model_module": "@jupyter-widgets/controls",
          "model_name": "HTMLModel",
          "model_module_version": "1.5.0",
          "state": {
            "_dom_classes": [],
            "_model_module": "@jupyter-widgets/controls",
            "_model_module_version": "1.5.0",
            "_model_name": "HTMLModel",
            "_view_count": null,
            "_view_module": "@jupyter-widgets/controls",
            "_view_module_version": "1.5.0",
            "_view_name": "HTMLView",
            "description": "",
            "description_tooltip": null,
            "layout": "IPY_MODEL_91b7f4968dc941e9abd348b398a83ad0",
            "placeholder": "​",
            "style": "IPY_MODEL_b2731eba9ba7480c9a2bdd77589e21e8",
            "value": " 170499072/? [00:02&lt;00:00, 84883883.99it/s]"
          }
        },
        "bd8e3bb1b3a24856be5155f85316a273": {
          "model_module": "@jupyter-widgets/base",
          "model_name": "LayoutModel",
          "model_module_version": "1.2.0",
          "state": {
            "_model_module": "@jupyter-widgets/base",
            "_model_module_version": "1.2.0",
            "_model_name": "LayoutModel",
            "_view_count": null,
            "_view_module": "@jupyter-widgets/base",
            "_view_module_version": "1.2.0",
            "_view_name": "LayoutView",
            "align_content": null,
            "align_items": null,
            "align_self": null,
            "border": null,
            "bottom": null,
            "display": null,
            "flex": null,
            "flex_flow": null,
            "grid_area": null,
            "grid_auto_columns": null,
            "grid_auto_flow": null,
            "grid_auto_rows": null,
            "grid_column": null,
            "grid_gap": null,
            "grid_row": null,
            "grid_template_areas": null,
            "grid_template_columns": null,
            "grid_template_rows": null,
            "height": null,
            "justify_content": null,
            "justify_items": null,
            "left": null,
            "margin": null,
            "max_height": null,
            "max_width": null,
            "min_height": null,
            "min_width": null,
            "object_fit": null,
            "object_position": null,
            "order": null,
            "overflow": null,
            "overflow_x": null,
            "overflow_y": null,
            "padding": null,
            "right": null,
            "top": null,
            "visibility": null,
            "width": null
          }
        },
        "f898be2e73444add89d9ff880196b9a1": {
          "model_module": "@jupyter-widgets/base",
          "model_name": "LayoutModel",
          "model_module_version": "1.2.0",
          "state": {
            "_model_module": "@jupyter-widgets/base",
            "_model_module_version": "1.2.0",
            "_model_name": "LayoutModel",
            "_view_count": null,
            "_view_module": "@jupyter-widgets/base",
            "_view_module_version": "1.2.0",
            "_view_name": "LayoutView",
            "align_content": null,
            "align_items": null,
            "align_self": null,
            "border": null,
            "bottom": null,
            "display": null,
            "flex": null,
            "flex_flow": null,
            "grid_area": null,
            "grid_auto_columns": null,
            "grid_auto_flow": null,
            "grid_auto_rows": null,
            "grid_column": null,
            "grid_gap": null,
            "grid_row": null,
            "grid_template_areas": null,
            "grid_template_columns": null,
            "grid_template_rows": null,
            "height": null,
            "justify_content": null,
            "justify_items": null,
            "left": null,
            "margin": null,
            "max_height": null,
            "max_width": null,
            "min_height": null,
            "min_width": null,
            "object_fit": null,
            "object_position": null,
            "order": null,
            "overflow": null,
            "overflow_x": null,
            "overflow_y": null,
            "padding": null,
            "right": null,
            "top": null,
            "visibility": null,
            "width": null
          }
        },
        "00d7e43dbf6647d6bb39ef98f9c35e55": {
          "model_module": "@jupyter-widgets/controls",
          "model_name": "DescriptionStyleModel",
          "model_module_version": "1.5.0",
          "state": {
            "_model_module": "@jupyter-widgets/controls",
            "_model_module_version": "1.5.0",
            "_model_name": "DescriptionStyleModel",
            "_view_count": null,
            "_view_module": "@jupyter-widgets/base",
            "_view_module_version": "1.2.0",
            "_view_name": "StyleView",
            "description_width": ""
          }
        },
        "42af31ab72ad40229758bbe74aea1d8a": {
          "model_module": "@jupyter-widgets/base",
          "model_name": "LayoutModel",
          "model_module_version": "1.2.0",
          "state": {
            "_model_module": "@jupyter-widgets/base",
            "_model_module_version": "1.2.0",
            "_model_name": "LayoutModel",
            "_view_count": null,
            "_view_module": "@jupyter-widgets/base",
            "_view_module_version": "1.2.0",
            "_view_name": "LayoutView",
            "align_content": null,
            "align_items": null,
            "align_self": null,
            "border": null,
            "bottom": null,
            "display": null,
            "flex": null,
            "flex_flow": null,
            "grid_area": null,
            "grid_auto_columns": null,
            "grid_auto_flow": null,
            "grid_auto_rows": null,
            "grid_column": null,
            "grid_gap": null,
            "grid_row": null,
            "grid_template_areas": null,
            "grid_template_columns": null,
            "grid_template_rows": null,
            "height": null,
            "justify_content": null,
            "justify_items": null,
            "left": null,
            "margin": null,
            "max_height": null,
            "max_width": null,
            "min_height": null,
            "min_width": null,
            "object_fit": null,
            "object_position": null,
            "order": null,
            "overflow": null,
            "overflow_x": null,
            "overflow_y": null,
            "padding": null,
            "right": null,
            "top": null,
            "visibility": null,
            "width": null
          }
        },
        "70d18729144a4613b17cd5a764e37db6": {
          "model_module": "@jupyter-widgets/controls",
          "model_name": "ProgressStyleModel",
          "model_module_version": "1.5.0",
          "state": {
            "_model_module": "@jupyter-widgets/controls",
            "_model_module_version": "1.5.0",
            "_model_name": "ProgressStyleModel",
            "_view_count": null,
            "_view_module": "@jupyter-widgets/base",
            "_view_module_version": "1.2.0",
            "_view_name": "StyleView",
            "bar_color": null,
            "description_width": ""
          }
        },
        "91b7f4968dc941e9abd348b398a83ad0": {
          "model_module": "@jupyter-widgets/base",
          "model_name": "LayoutModel",
          "model_module_version": "1.2.0",
          "state": {
            "_model_module": "@jupyter-widgets/base",
            "_model_module_version": "1.2.0",
            "_model_name": "LayoutModel",
            "_view_count": null,
            "_view_module": "@jupyter-widgets/base",
            "_view_module_version": "1.2.0",
            "_view_name": "LayoutView",
            "align_content": null,
            "align_items": null,
            "align_self": null,
            "border": null,
            "bottom": null,
            "display": null,
            "flex": null,
            "flex_flow": null,
            "grid_area": null,
            "grid_auto_columns": null,
            "grid_auto_flow": null,
            "grid_auto_rows": null,
            "grid_column": null,
            "grid_gap": null,
            "grid_row": null,
            "grid_template_areas": null,
            "grid_template_columns": null,
            "grid_template_rows": null,
            "height": null,
            "justify_content": null,
            "justify_items": null,
            "left": null,
            "margin": null,
            "max_height": null,
            "max_width": null,
            "min_height": null,
            "min_width": null,
            "object_fit": null,
            "object_position": null,
            "order": null,
            "overflow": null,
            "overflow_x": null,
            "overflow_y": null,
            "padding": null,
            "right": null,
            "top": null,
            "visibility": null,
            "width": null
          }
        },
        "b2731eba9ba7480c9a2bdd77589e21e8": {
          "model_module": "@jupyter-widgets/controls",
          "model_name": "DescriptionStyleModel",
          "model_module_version": "1.5.0",
          "state": {
            "_model_module": "@jupyter-widgets/controls",
            "_model_module_version": "1.5.0",
            "_model_name": "DescriptionStyleModel",
            "_view_count": null,
            "_view_module": "@jupyter-widgets/base",
            "_view_module_version": "1.2.0",
            "_view_name": "StyleView",
            "description_width": ""
          }
        }
      }
    }
  },
  "cells": [
    {
      "cell_type": "markdown",
      "metadata": {
        "id": "view-in-github",
        "colab_type": "text"
      },
      "source": [
        "<a href=\"https://colab.research.google.com/github/singwang-cn/Neural-Network/blob/master/ResNet_implementation.ipynb\" target=\"_parent\"><img src=\"https://colab.research.google.com/assets/colab-badge.svg\" alt=\"Open In Colab\"/></a>"
      ]
    },
    {
      "cell_type": "code",
      "execution_count": 1,
      "metadata": {
        "id": "mCCP7BdAWPb2"
      },
      "outputs": [],
      "source": [
        "import torch\n",
        "import torch.nn as nn\n",
        "from torch.nn import init\n",
        "from torch.nn import functional as F\n",
        "import torchvision\n",
        "import torchvision.transforms as T\n",
        "import torch.optim as optim\n",
        "from torch.utils.data import DataLoader\n",
        "from torch.utils.data import sampler\n",
        "import torchvision.datasets as dset\n",
        "import numpy as np\n",
        "import matplotlib.pyplot as plt"
      ]
    },
    {
      "cell_type": "code",
      "source": [
        "class ResBlock(nn.Module):\n",
        "  def __init__(self, inp_channels, num_channels, use_1x1conv=False, strides=1) -> None:\n",
        "    super().__init__()\n",
        "\n",
        "    self.conv1 = nn.Conv2d (in_channels=inp_channels, out_channels=num_channels, kernel_size=3, stride=strides, padding=1)\n",
        "    self.conv2 = nn.Conv2d (in_channels=num_channels, out_channels=num_channels, kernel_size=3, stride=1, padding=1)\n",
        "    self.conv3 = None\n",
        "    if use_1x1conv:\n",
        "      self.conv3 = nn.Conv2d (in_channels=inp_channels, out_channels=num_channels, kernel_size=1, stride=strides)\n",
        "\n",
        "    self.bn1 = nn.BatchNorm2d(num_channels)\n",
        "    self.bn2 = nn.BatchNorm2d(num_channels)\n",
        "    self.relu = nn.ReLU(inplace=True)\n",
        "\n",
        "  def forward(self, X):\n",
        "    Y = self.conv1(X)\n",
        "    Y = self.bn1(Y)\n",
        "    Y = F.relu(Y)\n",
        "\n",
        "    Y = self.conv2(Y)\n",
        "    Y = self.bn2(Y)\n",
        "\n",
        "    if self.conv3:\n",
        "      X = self.conv3(X)\n",
        "    Y += X\n",
        "    Y = F.relu(Y)\n",
        "    return Y\n"
      ],
      "metadata": {
        "id": "F7IKwbbYZYaG"
      },
      "execution_count": 2,
      "outputs": []
    },
    {
      "cell_type": "code",
      "source": [
        "def generate_blocks(input_channels, num_channels, num_blocks, first_block=False):\n",
        "  blocks = []\n",
        "  for i in range(num_blocks):\n",
        "    if i == 0 and not first_block:\n",
        "      blocks.append(ResBlock(input_channels, num_channels, use_1x1conv=True, strides=2))\n",
        "    else:\n",
        "      blocks.append(ResBlock(num_channels, num_channels))\n",
        "  return blocks\n"
      ],
      "metadata": {
        "id": "AdYejWHNsgHA"
      },
      "execution_count": 3,
      "outputs": []
    },
    {
      "cell_type": "code",
      "source": [
        "from torch.nn.modules.linear import Linear\n",
        "from torch.nn.modules.flatten import Flatten\n",
        "def build_34layer_resnet(num_classes=1000):\n",
        "  block1 = nn.Sequential(\n",
        "      nn.Conv2d(1, 64, kernel_size=7, stride=2, padding=1),\n",
        "      nn.BatchNorm2d(64),\n",
        "      nn.ReLU(),\n",
        "      nn.MaxPool2d(kernel_size=3, stride=2, padding=1)\n",
        "  )\n",
        "  block2 = nn.Sequential(*generate_blocks(64, 64, 3, first_block=True))\n",
        "  block3 = nn.Sequential(*generate_blocks(64, 128, 4))\n",
        "  block4 = nn.Sequential(*generate_blocks(128, 256, 6))\n",
        "  block5 = nn.Sequential(*generate_blocks(256, 512, 3))\n",
        "  fc = nn.Sequential(\n",
        "      nn.AdaptiveAvgPool2d((1, 1)),\n",
        "      nn.Flatten(start_dim=1, end_dim=-1),\n",
        "      nn.Linear(512, num_classes)\n",
        "  )\n",
        "\n",
        "  return nn.Sequential(block1, block2, block3, block4, block5, fc)\n"
      ],
      "metadata": {
        "id": "GXJQoOZuo2ul"
      },
      "execution_count": 4,
      "outputs": []
    },
    {
      "cell_type": "code",
      "source": [
        "dtype = torch.cuda.FloatTensor if torch.cuda.is_available() else torch.FloatTensor"
      ],
      "metadata": {
        "id": "KQ1o1J8_J6XR",
        "outputId": "f86ee783-8233-4cd3-d527-8b1df9fb151c",
        "colab": {
          "base_uri": "https://localhost:8080/"
        }
      },
      "execution_count": 7,
      "outputs": [
        {
          "output_type": "stream",
          "name": "stdout",
          "text": [
            "<class 'torch.cuda.FloatTensor'>\n"
          ]
        }
      ]
    },
    {
      "cell_type": "code",
      "source": [
        "def start_train(model, loader_tr, loader_va, show_epoch=1, num_epochs=10):\n",
        "  device = torch.device('cuda:0' if torch.cuda.is_available() else 'cpu')\n",
        "  model.to(device)\n",
        "  loss_func = nn.CrossEntropyLoss()\n",
        "  optimizer = optim.SGD(model.parameters(), lr=0.001, momentum=0.9, weight_decay=1e-4)\n",
        "  cost = []\n",
        "  for epoch in range(num_epochs):\n",
        "    for x, y in loader_tr:\n",
        "      y_pred = model(x.to(device))\n",
        "      loss = loss_func(y_pred, y)\n",
        "      optimizer.zero_grad()\n",
        "      loss.backward()\n",
        "      optimizer.step()\n",
        "      cost.append(loss.detach().numpy())\n",
        "\n",
        "    if (epoch+1) % show_epoch == 0:\n",
        "      incorrect = 0\n",
        "      for x, y in loader_va:\n",
        "        y_pred = model(x).detach().numpy().argmax(axis=1)\n",
        "        for i in range(len(y)):\n",
        "          if y[i] != y_pred[i]:\n",
        "            incorrect += 1\n",
        "      print('epoch:{}, acurracy:{:.3f}, error rate:{:.3f}'.format(epoch+1, 1-incorrect/10000, incorrect/10000))\n"
      ],
      "metadata": {
        "id": "JxQ2BGCerewm"
      },
      "execution_count": 40,
      "outputs": []
    },
    {
      "cell_type": "code",
      "source": [
        "cifar10_tr = dset.CIFAR10(\"./dataset/cifar10\", train=True, download=True, transform=T.ToTensor())\n",
        "cifar10_te = dset.CIFAR10(\"./dataset/cifar10\", train=False, download=True, transform=T.ToTensor())\n",
        "\n",
        "NUM_TRAIN = 50000\n",
        "NUM_VALID = 10000\n",
        "\n",
        "batch_size = 256\n",
        "\n",
        "loader_tr = DataLoader(cifar10_tr, batch_size=batch_size, shuffle=True)\n",
        "loader_va = DataLoader(cifar10_te, batch_size=batch_size, shuffle=True)"
      ],
      "metadata": {
        "colab": {
          "base_uri": "https://localhost:8080/",
          "height": 101,
          "referenced_widgets": [
            "39ba7a138cf54d338bdfa8c671882945",
            "f3016d39a58b4d4392cad4dcaaeaf06b",
            "75d65f8d16d046b194168d0e16d00963",
            "ff52ec8b073e4282982ce8e2c65f4e80",
            "bd8e3bb1b3a24856be5155f85316a273",
            "f898be2e73444add89d9ff880196b9a1",
            "00d7e43dbf6647d6bb39ef98f9c35e55",
            "42af31ab72ad40229758bbe74aea1d8a",
            "70d18729144a4613b17cd5a764e37db6",
            "91b7f4968dc941e9abd348b398a83ad0",
            "b2731eba9ba7480c9a2bdd77589e21e8"
          ]
        },
        "id": "mKG2Keby99Rd",
        "outputId": "ea471241-abe1-4322-8467-c77a5ad0bca7"
      },
      "execution_count": 51,
      "outputs": [
        {
          "output_type": "stream",
          "name": "stdout",
          "text": [
            "Downloading https://www.cs.toronto.edu/~kriz/cifar-10-python.tar.gz to ./dataset/cifar10/cifar-10-python.tar.gz\n"
          ]
        },
        {
          "output_type": "display_data",
          "data": {
            "text/plain": [
              "  0%|          | 0/170498071 [00:00<?, ?it/s]"
            ],
            "application/vnd.jupyter.widget-view+json": {
              "version_major": 2,
              "version_minor": 0,
              "model_id": "39ba7a138cf54d338bdfa8c671882945"
            }
          },
          "metadata": {}
        },
        {
          "output_type": "stream",
          "name": "stdout",
          "text": [
            "Extracting ./dataset/cifar10/cifar-10-python.tar.gz to ./dataset/cifar10\n",
            "Files already downloaded and verified\n"
          ]
        }
      ]
    },
    {
      "cell_type": "code",
      "source": [
        "model = build_34layer_resnet(num_classes=10)\n",
        "start_train(model, loader_tr, loader_va, show_epoch=1, num_epochs=1)"
      ],
      "metadata": {
        "colab": {
          "base_uri": "https://localhost:8080/"
        },
        "id": "aOJpXyKi6CnR",
        "outputId": "10d41eb3-5a8b-4774-fec6-785f55399a4d"
      },
      "execution_count": 50,
      "outputs": [
        {
          "output_type": "stream",
          "name": "stdout",
          "text": [
            "epoch:1, acurracy:0.979, error rate:0.021\n"
          ]
        }
      ]
    },
    {
      "cell_type": "code",
      "source": [
        "#https://pystyle.info/pytorch-resnet/"
      ],
      "metadata": {
        "id": "wbGE-OF4k_LN"
      },
      "execution_count": null,
      "outputs": []
    }
  ]
}