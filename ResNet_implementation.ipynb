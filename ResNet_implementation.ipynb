{
  "nbformat": 4,
  "nbformat_minor": 0,
  "metadata": {
    "colab": {
      "name": "ResNet_implementation.ipynb",
      "provenance": [],
      "mount_file_id": "https://github.com/singwang-cn/Neural-Network/blob/master/ResNet_implementation.ipynb",
      "authorship_tag": "ABX9TyORGBoelaDMqu+45fJK6ZMn",
      "include_colab_link": true
    },
    "kernelspec": {
      "name": "python3",
      "display_name": "Python 3"
    },
    "language_info": {
      "name": "python"
    },
    "accelerator": "GPU",
    "widgets": {
      "application/vnd.jupyter.widget-state+json": {
        "a115fcfea73e47ee8508b3d50211fab8": {
          "model_module": "@jupyter-widgets/controls",
          "model_name": "HBoxModel",
          "model_module_version": "1.5.0",
          "state": {
            "_dom_classes": [],
            "_model_module": "@jupyter-widgets/controls",
            "_model_module_version": "1.5.0",
            "_model_name": "HBoxModel",
            "_view_count": null,
            "_view_module": "@jupyter-widgets/controls",
            "_view_module_version": "1.5.0",
            "_view_name": "HBoxView",
            "box_style": "",
            "children": [
              "IPY_MODEL_1f1fd89ef58047dbbdefc521bc97ba02",
              "IPY_MODEL_ab86aa14bc1c4c05a27c192d23755acf",
              "IPY_MODEL_de4418f8c93044aaa2e2ac3f7195a603"
            ],
            "layout": "IPY_MODEL_a60fd05e55774b638b1a7a39d63f8899"
          }
        },
        "1f1fd89ef58047dbbdefc521bc97ba02": {
          "model_module": "@jupyter-widgets/controls",
          "model_name": "HTMLModel",
          "model_module_version": "1.5.0",
          "state": {
            "_dom_classes": [],
            "_model_module": "@jupyter-widgets/controls",
            "_model_module_version": "1.5.0",
            "_model_name": "HTMLModel",
            "_view_count": null,
            "_view_module": "@jupyter-widgets/controls",
            "_view_module_version": "1.5.0",
            "_view_name": "HTMLView",
            "description": "",
            "description_tooltip": null,
            "layout": "IPY_MODEL_ab4b9717f3754081b4a49cf9825004cb",
            "placeholder": "​",
            "style": "IPY_MODEL_805fe0a1e21f44fa8343fb687d91aadb",
            "value": ""
          }
        },
        "ab86aa14bc1c4c05a27c192d23755acf": {
          "model_module": "@jupyter-widgets/controls",
          "model_name": "FloatProgressModel",
          "model_module_version": "1.5.0",
          "state": {
            "_dom_classes": [],
            "_model_module": "@jupyter-widgets/controls",
            "_model_module_version": "1.5.0",
            "_model_name": "FloatProgressModel",
            "_view_count": null,
            "_view_module": "@jupyter-widgets/controls",
            "_view_module_version": "1.5.0",
            "_view_name": "ProgressView",
            "bar_style": "success",
            "description": "",
            "description_tooltip": null,
            "layout": "IPY_MODEL_c1b6ca326d4e4ea2a4cdb28857c2d849",
            "max": 170498071,
            "min": 0,
            "orientation": "horizontal",
            "style": "IPY_MODEL_2c82c9b6db254a9c9b41c0ab3ece96db",
            "value": 170498071
          }
        },
        "de4418f8c93044aaa2e2ac3f7195a603": {
          "model_module": "@jupyter-widgets/controls",
          "model_name": "HTMLModel",
          "model_module_version": "1.5.0",
          "state": {
            "_dom_classes": [],
            "_model_module": "@jupyter-widgets/controls",
            "_model_module_version": "1.5.0",
            "_model_name": "HTMLModel",
            "_view_count": null,
            "_view_module": "@jupyter-widgets/controls",
            "_view_module_version": "1.5.0",
            "_view_name": "HTMLView",
            "description": "",
            "description_tooltip": null,
            "layout": "IPY_MODEL_51eb905833b04fa0a462c926d9489ddc",
            "placeholder": "​",
            "style": "IPY_MODEL_599dc6b9937546aaa568e72174992647",
            "value": " 170499072/? [00:22&lt;00:00, 8718663.38it/s]"
          }
        },
        "a60fd05e55774b638b1a7a39d63f8899": {
          "model_module": "@jupyter-widgets/base",
          "model_name": "LayoutModel",
          "model_module_version": "1.2.0",
          "state": {
            "_model_module": "@jupyter-widgets/base",
            "_model_module_version": "1.2.0",
            "_model_name": "LayoutModel",
            "_view_count": null,
            "_view_module": "@jupyter-widgets/base",
            "_view_module_version": "1.2.0",
            "_view_name": "LayoutView",
            "align_content": null,
            "align_items": null,
            "align_self": null,
            "border": null,
            "bottom": null,
            "display": null,
            "flex": null,
            "flex_flow": null,
            "grid_area": null,
            "grid_auto_columns": null,
            "grid_auto_flow": null,
            "grid_auto_rows": null,
            "grid_column": null,
            "grid_gap": null,
            "grid_row": null,
            "grid_template_areas": null,
            "grid_template_columns": null,
            "grid_template_rows": null,
            "height": null,
            "justify_content": null,
            "justify_items": null,
            "left": null,
            "margin": null,
            "max_height": null,
            "max_width": null,
            "min_height": null,
            "min_width": null,
            "object_fit": null,
            "object_position": null,
            "order": null,
            "overflow": null,
            "overflow_x": null,
            "overflow_y": null,
            "padding": null,
            "right": null,
            "top": null,
            "visibility": null,
            "width": null
          }
        },
        "ab4b9717f3754081b4a49cf9825004cb": {
          "model_module": "@jupyter-widgets/base",
          "model_name": "LayoutModel",
          "model_module_version": "1.2.0",
          "state": {
            "_model_module": "@jupyter-widgets/base",
            "_model_module_version": "1.2.0",
            "_model_name": "LayoutModel",
            "_view_count": null,
            "_view_module": "@jupyter-widgets/base",
            "_view_module_version": "1.2.0",
            "_view_name": "LayoutView",
            "align_content": null,
            "align_items": null,
            "align_self": null,
            "border": null,
            "bottom": null,
            "display": null,
            "flex": null,
            "flex_flow": null,
            "grid_area": null,
            "grid_auto_columns": null,
            "grid_auto_flow": null,
            "grid_auto_rows": null,
            "grid_column": null,
            "grid_gap": null,
            "grid_row": null,
            "grid_template_areas": null,
            "grid_template_columns": null,
            "grid_template_rows": null,
            "height": null,
            "justify_content": null,
            "justify_items": null,
            "left": null,
            "margin": null,
            "max_height": null,
            "max_width": null,
            "min_height": null,
            "min_width": null,
            "object_fit": null,
            "object_position": null,
            "order": null,
            "overflow": null,
            "overflow_x": null,
            "overflow_y": null,
            "padding": null,
            "right": null,
            "top": null,
            "visibility": null,
            "width": null
          }
        },
        "805fe0a1e21f44fa8343fb687d91aadb": {
          "model_module": "@jupyter-widgets/controls",
          "model_name": "DescriptionStyleModel",
          "model_module_version": "1.5.0",
          "state": {
            "_model_module": "@jupyter-widgets/controls",
            "_model_module_version": "1.5.0",
            "_model_name": "DescriptionStyleModel",
            "_view_count": null,
            "_view_module": "@jupyter-widgets/base",
            "_view_module_version": "1.2.0",
            "_view_name": "StyleView",
            "description_width": ""
          }
        },
        "c1b6ca326d4e4ea2a4cdb28857c2d849": {
          "model_module": "@jupyter-widgets/base",
          "model_name": "LayoutModel",
          "model_module_version": "1.2.0",
          "state": {
            "_model_module": "@jupyter-widgets/base",
            "_model_module_version": "1.2.0",
            "_model_name": "LayoutModel",
            "_view_count": null,
            "_view_module": "@jupyter-widgets/base",
            "_view_module_version": "1.2.0",
            "_view_name": "LayoutView",
            "align_content": null,
            "align_items": null,
            "align_self": null,
            "border": null,
            "bottom": null,
            "display": null,
            "flex": null,
            "flex_flow": null,
            "grid_area": null,
            "grid_auto_columns": null,
            "grid_auto_flow": null,
            "grid_auto_rows": null,
            "grid_column": null,
            "grid_gap": null,
            "grid_row": null,
            "grid_template_areas": null,
            "grid_template_columns": null,
            "grid_template_rows": null,
            "height": null,
            "justify_content": null,
            "justify_items": null,
            "left": null,
            "margin": null,
            "max_height": null,
            "max_width": null,
            "min_height": null,
            "min_width": null,
            "object_fit": null,
            "object_position": null,
            "order": null,
            "overflow": null,
            "overflow_x": null,
            "overflow_y": null,
            "padding": null,
            "right": null,
            "top": null,
            "visibility": null,
            "width": null
          }
        },
        "2c82c9b6db254a9c9b41c0ab3ece96db": {
          "model_module": "@jupyter-widgets/controls",
          "model_name": "ProgressStyleModel",
          "model_module_version": "1.5.0",
          "state": {
            "_model_module": "@jupyter-widgets/controls",
            "_model_module_version": "1.5.0",
            "_model_name": "ProgressStyleModel",
            "_view_count": null,
            "_view_module": "@jupyter-widgets/base",
            "_view_module_version": "1.2.0",
            "_view_name": "StyleView",
            "bar_color": null,
            "description_width": ""
          }
        },
        "51eb905833b04fa0a462c926d9489ddc": {
          "model_module": "@jupyter-widgets/base",
          "model_name": "LayoutModel",
          "model_module_version": "1.2.0",
          "state": {
            "_model_module": "@jupyter-widgets/base",
            "_model_module_version": "1.2.0",
            "_model_name": "LayoutModel",
            "_view_count": null,
            "_view_module": "@jupyter-widgets/base",
            "_view_module_version": "1.2.0",
            "_view_name": "LayoutView",
            "align_content": null,
            "align_items": null,
            "align_self": null,
            "border": null,
            "bottom": null,
            "display": null,
            "flex": null,
            "flex_flow": null,
            "grid_area": null,
            "grid_auto_columns": null,
            "grid_auto_flow": null,
            "grid_auto_rows": null,
            "grid_column": null,
            "grid_gap": null,
            "grid_row": null,
            "grid_template_areas": null,
            "grid_template_columns": null,
            "grid_template_rows": null,
            "height": null,
            "justify_content": null,
            "justify_items": null,
            "left": null,
            "margin": null,
            "max_height": null,
            "max_width": null,
            "min_height": null,
            "min_width": null,
            "object_fit": null,
            "object_position": null,
            "order": null,
            "overflow": null,
            "overflow_x": null,
            "overflow_y": null,
            "padding": null,
            "right": null,
            "top": null,
            "visibility": null,
            "width": null
          }
        },
        "599dc6b9937546aaa568e72174992647": {
          "model_module": "@jupyter-widgets/controls",
          "model_name": "DescriptionStyleModel",
          "model_module_version": "1.5.0",
          "state": {
            "_model_module": "@jupyter-widgets/controls",
            "_model_module_version": "1.5.0",
            "_model_name": "DescriptionStyleModel",
            "_view_count": null,
            "_view_module": "@jupyter-widgets/base",
            "_view_module_version": "1.2.0",
            "_view_name": "StyleView",
            "description_width": ""
          }
        }
      }
    }
  },
  "cells": [
    {
      "cell_type": "markdown",
      "metadata": {
        "id": "view-in-github",
        "colab_type": "text"
      },
      "source": [
        "<a href=\"https://colab.research.google.com/github/singwang-cn/Neural-Network/blob/master/ResNet_implementation.ipynb\" target=\"_parent\"><img src=\"https://colab.research.google.com/assets/colab-badge.svg\" alt=\"Open In Colab\"/></a>"
      ]
    },
    {
      "cell_type": "code",
      "execution_count": 34,
      "metadata": {
        "id": "mCCP7BdAWPb2"
      },
      "outputs": [],
      "source": [
        "import torch\n",
        "import torch.nn as nn\n",
        "from torch.nn import init\n",
        "from torch.nn import functional as F\n",
        "import torchvision\n",
        "import torchvision.transforms as T\n",
        "import torch.optim as optim\n",
        "from torch.utils.data import DataLoader\n",
        "from torch.utils.data import sampler\n",
        "import torchvision.datasets as dset\n",
        "import time\n",
        "import numpy as np\n",
        "import matplotlib.pyplot as plt"
      ]
    },
    {
      "cell_type": "code",
      "source": [
        "class ResBlock(nn.Module):\n",
        "  def __init__(self, inp_channels, num_channels, use_1x1conv=False, strides=1) -> None:\n",
        "    super().__init__()\n",
        "\n",
        "    self.conv1 = nn.Conv2d (in_channels=inp_channels, out_channels=num_channels, kernel_size=3, stride=strides, padding=1)\n",
        "    self.conv2 = nn.Conv2d (in_channels=num_channels, out_channels=num_channels, kernel_size=3, stride=1, padding=1)\n",
        "    self.conv3 = None\n",
        "    if use_1x1conv:\n",
        "      self.conv3 = nn.Conv2d (in_channels=inp_channels, out_channels=num_channels, kernel_size=1, stride=strides)\n",
        "\n",
        "    self.bn1 = nn.BatchNorm2d(num_channels)\n",
        "    self.bn2 = nn.BatchNorm2d(num_channels)\n",
        "    self.relu = nn.ReLU(inplace=True)\n",
        "\n",
        "  def forward(self, X):\n",
        "    Y = self.conv1(X)\n",
        "    Y = self.bn1(Y)\n",
        "    Y = F.relu(Y)\n",
        "\n",
        "    Y = self.conv2(Y)\n",
        "    Y = self.bn2(Y)\n",
        "\n",
        "    if self.conv3:\n",
        "      X = self.conv3(X)\n",
        "    Y += X\n",
        "    Y = F.relu(Y)\n",
        "    return Y\n"
      ],
      "metadata": {
        "id": "F7IKwbbYZYaG"
      },
      "execution_count": 2,
      "outputs": []
    },
    {
      "cell_type": "code",
      "source": [
        "def generate_blocks(input_channels, num_channels, num_blocks, first_block=False):\n",
        "  blocks = []\n",
        "  for i in range(num_blocks):\n",
        "    if i == 0 and not first_block:\n",
        "      blocks.append(ResBlock(input_channels, num_channels, use_1x1conv=True, strides=2))\n",
        "    else:\n",
        "      blocks.append(ResBlock(num_channels, num_channels))\n",
        "  return blocks\n"
      ],
      "metadata": {
        "id": "AdYejWHNsgHA"
      },
      "execution_count": 3,
      "outputs": []
    },
    {
      "cell_type": "code",
      "source": [
        "def build_34layer_resnet(num_classes=1000):\n",
        "  block1 = nn.Sequential(\n",
        "      nn.Conv2d(3, 64, kernel_size=7, stride=2, padding=1),\n",
        "      nn.BatchNorm2d(64),\n",
        "      nn.ReLU(),\n",
        "      nn.MaxPool2d(kernel_size=3, stride=2, padding=1)\n",
        "  )\n",
        "  block2 = nn.Sequential(*generate_blocks(64, 64, 3, first_block=True))\n",
        "  block3 = nn.Sequential(*generate_blocks(64, 128, 4))\n",
        "  block4 = nn.Sequential(*generate_blocks(128, 256, 6))\n",
        "  block5 = nn.Sequential(*generate_blocks(256, 512, 3))\n",
        "  fc = nn.Sequential(\n",
        "      nn.AdaptiveAvgPool2d((1, 1)),\n",
        "      nn.Flatten(start_dim=1, end_dim=-1),\n",
        "      nn.Linear(512, num_classes)\n",
        "  )\n",
        "\n",
        "  return nn.Sequential(block1, block2, block3, block4, block5, fc)\n"
      ],
      "metadata": {
        "id": "GXJQoOZuo2ul"
      },
      "execution_count": 13,
      "outputs": []
    },
    {
      "cell_type": "code",
      "source": [
        "def start_train(model, loader_tr, loader_va, show_epoch=1, num_epochs=10):\n",
        "  dtype = torch.cuda.FloatTensor if torch.cuda.is_available() else torch.FloatTensor\n",
        "  model.type(dtype)\n",
        "  loss_func = nn.CrossEntropyLoss().type(dtype)\n",
        "  optimizer = optim.SGD(model.parameters(), lr=0.1, momentum=0.9, weight_decay=1e-4)\n",
        "  cost = []\n",
        "\n",
        "  start_time = time.time()\n",
        "\n",
        "  for epoch in range(num_epochs):\n",
        "    for x, y in loader_tr:\n",
        "      y_pred = model(x.type(dtype)).cpu()\n",
        "      loss = loss_func(y_pred, y)\n",
        "      optimizer.zero_grad()\n",
        "      loss.backward()\n",
        "      optimizer.step()\n",
        "      cost.append(loss.detach().numpy())\n",
        "\n",
        "    if (epoch+1) % show_epoch == 0:\n",
        "      incorrect = 0\n",
        "      for x, y in loader_va:\n",
        "        y_pred = model(x.type(dtype)).cpu().detach().numpy().argmax(axis=1)\n",
        "        for i in range(len(y)):\n",
        "          if y[i] != y_pred[i]:\n",
        "            incorrect += 1\n",
        "      n = loader_va.dataset.data.shape[0]\n",
        "      error_rate = incorrect / n\n",
        "      print('epoch:{}, acurracy:{:.3f}, error rate:{:.3f}, time: {}'.format(epoch+1, 1-error_rate, error_rate, time.strftime(\"%H:%M:%S\", time.gmtime(time.time()-start_time))))\n",
        "    scheduler = optim.lr_scheduler.ReduceLROnPlateau(optimizer, mode='min', factor=0.1)\n"
      ],
      "metadata": {
        "id": "JxQ2BGCerewm"
      },
      "execution_count": 37,
      "outputs": []
    },
    {
      "cell_type": "code",
      "source": [
        "cifar10_tr = dset.CIFAR10(\"./dataset/cifar10\", train=True, download=True, transform=T.ToTensor())\n",
        "cifar10_te = dset.CIFAR10(\"./dataset/cifar10\", train=False, download=True, transform=T.ToTensor())\n",
        "\n",
        "NUM_TRAIN = 50000\n",
        "NUM_VALID = 10000\n",
        "\n",
        "batch_size = 256\n",
        "\n",
        "loader_tr = DataLoader(cifar10_tr, batch_size=batch_size, shuffle=True)\n",
        "loader_va = DataLoader(cifar10_te, batch_size=batch_size, shuffle=True)"
      ],
      "metadata": {
        "colab": {
          "base_uri": "https://localhost:8080/",
          "height": 101,
          "referenced_widgets": [
            "a115fcfea73e47ee8508b3d50211fab8",
            "1f1fd89ef58047dbbdefc521bc97ba02",
            "ab86aa14bc1c4c05a27c192d23755acf",
            "de4418f8c93044aaa2e2ac3f7195a603",
            "a60fd05e55774b638b1a7a39d63f8899",
            "ab4b9717f3754081b4a49cf9825004cb",
            "805fe0a1e21f44fa8343fb687d91aadb",
            "c1b6ca326d4e4ea2a4cdb28857c2d849",
            "2c82c9b6db254a9c9b41c0ab3ece96db",
            "51eb905833b04fa0a462c926d9489ddc",
            "599dc6b9937546aaa568e72174992647"
          ]
        },
        "id": "mKG2Keby99Rd",
        "outputId": "93cdd80a-2bf5-4d1d-f3c6-dc0011ca11de"
      },
      "execution_count": 10,
      "outputs": [
        {
          "output_type": "stream",
          "name": "stdout",
          "text": [
            "Downloading https://www.cs.toronto.edu/~kriz/cifar-10-python.tar.gz to ./dataset/cifar10/cifar-10-python.tar.gz\n"
          ]
        },
        {
          "output_type": "display_data",
          "data": {
            "text/plain": [
              "  0%|          | 0/170498071 [00:00<?, ?it/s]"
            ],
            "application/vnd.jupyter.widget-view+json": {
              "version_major": 2,
              "version_minor": 0,
              "model_id": "a115fcfea73e47ee8508b3d50211fab8"
            }
          },
          "metadata": {}
        },
        {
          "output_type": "stream",
          "name": "stdout",
          "text": [
            "Extracting ./dataset/cifar10/cifar-10-python.tar.gz to ./dataset/cifar10\n",
            "Files already downloaded and verified\n"
          ]
        }
      ]
    },
    {
      "cell_type": "code",
      "source": [
        "model = build_34layer_resnet(num_classes=10)\n",
        "start_train(model, loader_tr, loader_va, show_epoch=1, num_epochs=10)"
      ],
      "metadata": {
        "colab": {
          "base_uri": "https://localhost:8080/"
        },
        "id": "aOJpXyKi6CnR",
        "outputId": "ad538b3d-0abb-468c-cb32-9b17c290c009"
      },
      "execution_count": 38,
      "outputs": [
        {
          "output_type": "stream",
          "name": "stdout",
          "text": [
            "epoch:1, acurracy:0.102, error rate:0.898, time: 00:00:40\n",
            "epoch:2, acurracy:0.184, error rate:0.816, time: 00:01:21\n",
            "epoch:3, acurracy:0.269, error rate:0.731, time: 00:02:01\n",
            "epoch:4, acurracy:0.352, error rate:0.648, time: 00:02:42\n",
            "epoch:5, acurracy:0.403, error rate:0.597, time: 00:03:23\n",
            "epoch:6, acurracy:0.456, error rate:0.544, time: 00:04:03\n",
            "epoch:7, acurracy:0.488, error rate:0.512, time: 00:04:44\n",
            "epoch:8, acurracy:0.519, error rate:0.481, time: 00:05:25\n",
            "epoch:9, acurracy:0.541, error rate:0.459, time: 00:06:05\n",
            "epoch:10, acurracy:0.569, error rate:0.431, time: 00:06:46\n"
          ]
        }
      ]
    },
    {
      "cell_type": "code",
      "source": [
        "#https://pystyle.info/pytorch-resnet/"
      ],
      "metadata": {
        "id": "wbGE-OF4k_LN"
      },
      "execution_count": null,
      "outputs": []
    }
  ]
}